{
 "cells": [
  {
   "cell_type": "markdown",
   "metadata": {},
   "source": [
    "<div style=\"width:900px;background:#F9EECF;border:1px solid black;text-align:left;padding:20px;\">\n",
    "<span style=\"color:purple;font-size:13pt\"><b>Data Dictionary</span></b>\n",
    "</div>\n",
    "\n",
    "<div style=\"width:900px;float:left;padding:20px;align:left;\">\n",
    "Descriptors:\n",
    "<br><br>\n",
    "<style type=\"text/css\">\n",
    ".tg  {border-collapse:collapse;border-spacing:0;}\n",
    ".tg td{font-family:Arial, sans-serif;font-size:14px;padding:10px 5px;border-style:solid;border-width:1px;overflow:hidden;word-break:normal;}\n",
    ".tg th{font-family:Arial, sans-serif;font-size:14px;font-weight:normal;padding:10px 5px;border-style:solid;border-width:1px;overflow:hidden;word-break:normal;}\n",
    ".tg .tg-2lp6{font-weight:bold;background-color:#bbdaff;vertical-align:top}\n",
    ".tg .tg-amwm{font-weight:bold;text-align:center;vertical-align:top}\n",
    ".tg .tg-36xf{font-weight:bold;background-color:#bbdaff}\n",
    ".tg .tg-yw4l{vertical-align:top}\n",
    ".tg .tg-yw42{vertical-align:top;color:blue}\n",
    "</style>\n",
    "<table class=\"tg\">\n",
    "\n",
    "  <tr>\n",
    "    <th class=\"tg-36xf\">Feature Name</th>\n",
    "    <th class=\"tg-2lp6\">Description</th>\n",
    "    <th class=\"tg-2lp6\">Metrics</th>\n",
    "  </tr>\n",
    "          \n",
    "<tr>\n",
    "    <td class=\"tg-yw4l\">RecordID</td>\n",
    "    <td class=\"tg-yw4l\">A unique integer for each ICU stay </td>\n",
    "    <td class=\"tg-yw4l\">Integer</td>\n",
    "</tr>\n",
    "<tr>\n",
    "    <td class=\"tg-yw4l\">Age</td>\n",
    "    <td class=\"tg-yw4l\">Age</td>\n",
    "    <td class=\"tg-yw4l\">(years)</td>\n",
    "</tr>\n",
    "\n",
    "<tr>\n",
    "    <td class=\"tg-yw4l\">Height</td>\n",
    "    <td class=\"tg-yw4l\">Height</td>\n",
    "    <td class=\"tg-yw4l\">(cm)</td>\n",
    "</tr>\n",
    "\n",
    "<tr>\n",
    "    <td class=\"tg-yw4l\">ICUtype</td>\n",
    "    <td class=\"tg-yw4l\">ICU Type</td>\n",
    "    <td class=\"tg-yw4l\">(1: Coronary Care Unit, 2: Cardiac Surgery Recovery Unit, <br>3: Medical ICU, or 4: Surgical ICU)</td>\n",
    "</tr>\n",
    "\n",
    "<tr>\n",
    "    <td class=\"tg-yw4l\">Gender</td>\n",
    "    <td class=\"tg-yw4l\">Gender</td>\n",
    "    <td class=\"tg-yw4l\">(0: female, or 1: male)</td>\n",
    "</tr>\n",
    "\n",
    "</table>\n",
    "<br><br>\n",
    "These 37 variables may be observed once, more than once, or not at all in some cases:\n",
    "<br><br>\n",
    "\n",
    "<table class=\"tg\">\n",
    "<tr>\n",
    "    <th class=\"tg-36xf\">Feature Name</th>\n",
    "    <th class=\"tg-2lp6\">Description</th>\n",
    "    <th class=\"tg-2lp6\">Metrics</th>\n",
    "</tr>\n",
    "          \n",
    "<tr>\n",
    "    <td class=\"tg-yw4l\">Albumin</td>\n",
    "    <td class=\"tg-yw4l\">Albumin </td>\n",
    "    <td class=\"tg-yw4l\">(g/dL)</td>\n",
    "</tr>\n",
    "<tr>\n",
    "    <td class=\"tg-yw4l\">ALP</td>\n",
    "    <td class=\"tg-yw4l\">Alkaline phosphatase</td>\n",
    "    <td class=\"tg-yw4l\">(IU/L)</td>\n",
    "</tr>\n",
    "<tr>\n",
    "<td class=\"tg-yw4l\">ALT</td>\n",
    "<td class=\"tg-yw4l\">Alanine transaminase</td> \n",
    "<td class=\"tg-yw4l\">(IU/L)</td>\n",
    "</tr>\n",
    "<tr>\n",
    "<td class=\"tg-yw4l\">AST</td>\n",
    "<td class=\"tg-yw4l\">Aspartate transaminase</td>\n",
    "<td class=\"tg-yw4l\">(IU/L)</td>\n",
    "</tr>\n",
    "<tr>\n",
    "<td class=\"tg-yw4l\">Bilirubin</td>\n",
    "<td class=\"tg-yw4l\">Bilirubin</td>\n",
    "<td class=\"tg-yw4l\">(mg/dL)</td>\n",
    "</tr>\n",
    "<tr>\n",
    "<td class=\"tg-yw4l\">BUN</td>\n",
    "<td class=\"tg-yw4l\">Blood urea nitrogen</td>\n",
    "<td class=\"tg-yw4l\">(mg/dL)</td>\n",
    "</tr>\n",
    "<tr>\n",
    "<td class=\"tg-yw4l\">Cholesterol</td>\n",
    "<td class=\"tg-yw4l\">Cholesterol</td>\n",
    "<td class=\"tg-yw4l\">(mg/dL)</td>\n",
    "</tr>\n",
    "<tr>\n",
    "<td class=\"tg-yw4l\">Creatinine</td>\n",
    "<td class=\"tg-yw4l\">Serum creatinine</td>\n",
    "<td class=\"tg-yw4l\">(mg/dL)</td>\n",
    "</tr>\n",
    "\n",
    "<tr>\n",
    "<td class=\"tg-yw4l\">DiasABP <td class=\"tg-yw4l\">Invasive diastolic arterial blood pressure <td class=\"tg-yw4l\">(mmHg)</tr>\n",
    "\n",
    "<tr><td class=\"tg-yw4l\">FiO2 <td class=\"tg-yw4l\">Fractional inspired O2 <td class=\"tg-yw4l\">(0-1)</tr>\n",
    "<tr><td class=\"tg-yw4l\">GCS <td class=\"tg-yw4l\">Glasgow Coma Score <td class=\"tg-yw4l\">(3-15)</tr>\n",
    "<tr><td class=\"tg-yw4l\">Glucose <td class=\"tg-yw4l\">Serum glucose <td class=\"tg-yw4l\">(mg/dL)</tr>\n",
    "<tr><td class=\"tg-yw4l\">HCO3 <td class=\"tg-yw4l\">Serum bicarbonate <td class=\"tg-yw4l\">(mmol/L)</tr>\n",
    "<tr><td class=\"tg-yw4l\">HCT <td class=\"tg-yw4l\">Hematocrit <td class=\"tg-yw4l\">(%)</tr>\n",
    "<tr><td class=\"tg-yw4l\">HR <td class=\"tg-yw4l\">Heart rate <td class=\"tg-yw4l\">(bpm)</tr>\n",
    "<tr><td class=\"tg-yw4l\">K <td class=\"tg-yw4l\">Serum potassium <td class=\"tg-yw4l\">(mEq/L)</tr>\n",
    "<tr><td class=\"tg-yw4l\">Lactate <td class=\"tg-yw4l\">Lactate<td class=\"tg-yw4l\">(mmol/L)</tr>\n",
    "<tr><td class=\"tg-yw4l\">Mg <td class=\"tg-yw4l\">Serum magnesium <td class=\"tg-yw4l\">(mmol/L)</tr>\n",
    "<tr><td class=\"tg-yw4l\">MAP <td class=\"tg-yw4l\">Invasive mean arterial blood pressure <td class=\"tg-yw4l\">(mmHg)</tr>\n",
    "<tr><td class=\"tg-yw4l\">MechVent <td class=\"tg-yw4l\">Mechanical ventilation respiration <td class=\"tg-yw4l\">(0:false, or 1:true)</tr>\n",
    "<tr><td class=\"tg-yw4l\">Na <td class=\"tg-yw4l\">Serum sodium <td class=\"tg-yw4l\">(mEq/L)</tr>\n",
    "<tr><td class=\"tg-yw4l\">NIDiasABP <td class=\"tg-yw4l\">Non-invasive diastolic arterial blood pressure <td class=\"tg-yw4l\">(mmHg)</tr>\n",
    "<tr><td class=\"tg-yw4l\">NIMAP <td class=\"tg-yw4l\">Non-invasive mean arterial blood pressure <td class=\"tg-yw4l\">(mmHg)</tr>\n",
    "<tr><td class=\"tg-yw4l\">NISysABP <td class=\"tg-yw4l\">Non-invasive systolic arterial blood pressure <td class=\"tg-yw4l\">(mmHg)</tr>\n",
    "<tr><td class=\"tg-yw4l\">PaCO2 <td class=\"tg-yw4l\">partial pressure of arterial CO2 <td class=\"tg-yw4l\">(mmHg)</tr>\n",
    "<tr><td class=\"tg-yw4l\">PaO2 <td class=\"tg-yw4l\">Partial pressure of arterial O2 <td class=\"tg-yw4l\">(mmHg)</tr>\n",
    "<tr><td class=\"tg-yw4l\">pH <td class=\"tg-yw4l\">Arterial pH <td class=\"tg-yw4l\">(0-14)</tr>\n",
    "<tr><td class=\"tg-yw4l\">Platelets <td class=\"tg-yw4l\">Platelets<td class=\"tg-yw4l\">(cells/nL)</tr>\n",
    "<tr><td class=\"tg-yw4l\">RespRate <td class=\"tg-yw4l\">Respiration rate <td class=\"tg-yw4l\">(bpm)</tr>\n",
    "<tr><td class=\"tg-yw4l\">SaO2 <td class=\"tg-yw4l\">O2 saturation in hemoglobin <td class=\"tg-yw4l\">(%)</tr>\n",
    "<tr><td class=\"tg-yw4l\">SysABP <td class=\"tg-yw4l\">Invasive systolic arterial blood pressure <td class=\"tg-yw4l\">(mmHg)</tr>\n",
    "<tr><td class=\"tg-yw4l\">Temp <td class=\"tg-yw4l\">Temperature <td class=\"tg-yw4l\">(°C)</tr>\n",
    "<tr><td class=\"tg-yw4l\">TropI <td class=\"tg-yw4l\">Troponin-I <td class=\"tg-yw4l\">(μg/L)</tr>\n",
    "<tr><td class=\"tg-yw4l\">TropT <td class=\"tg-yw4l\">Troponin-T <td class=\"tg-yw4l\">(μg/L)</tr>\n",
    "<tr><td class=\"tg-yw4l\">Urine <td class=\"tg-yw4l\">Urine output <td class=\"tg-yw4l\">(mL)</tr>\n",
    "<tr><td class=\"tg-yw4l\">WBC <td class=\"tg-yw4l\">White blood cell count <td class=\"tg-yw4l\">(cells/nL)</tr>\n",
    "<tr><td class=\"tg-yw4l\">Weight <td class=\"tg-yw4l\">Weight<td class=\"tg-yw4l\">(kg)</tr></table>\n",
    "\n",
    "<br><br>\n",
    "Outcomes-Related Descriptors:\n",
    "\n",
    "<table class=\"tg\">\n",
    "<tr>\n",
    "    <th class=\"tg-36xf\">Outcomes</th>\n",
    "    <th class=\"tg-2lp6\">Description</th>\n",
    "    <th class=\"tg-2lp6\">Metrics</th>\n",
    "</tr>\n",
    "          \n",
    "<tr>\n",
    "    <td class=\"tg-yw4l\">SAPS-I score</td>\n",
    "    <td class=\"tg-yw4l\">(Le Gall et al., 1984) </td>\n",
    "    <td class=\"tg-yw4l\">between 0 to 163</td>\n",
    "</tr>\n",
    "  \n",
    "<tr>\n",
    "    <td class=\"tg-yw4l\">SOFA score</td>\n",
    "    <td class=\"tg-yw4l\">(Ferreira et al., 2001) </td>\n",
    "    <td class=\"tg-yw4l\">between 0 to 4</td>\n",
    "</tr>\n",
    "  \n",
    "<tr>\n",
    "    <td class=\"tg-yw4l\">Length of stay</td>\n",
    "    <td class=\"tg-yw4l\">Length of stay </td>\n",
    "    <td class=\"tg-yw4l\">(days)</td>\n",
    "</tr>\n",
    "\n",
    "<tr>\n",
    "    <td class=\"tg-yw4l\">Survival</td>\n",
    "    <td class=\"tg-yw4l\">Survival</td>\n",
    "    <td class=\"tg-yw4l\">(days)</td>\n",
    "</tr>\n",
    "\n",
    "<tr>\n",
    "    <td class=\"tg-yw42\"><b>In-hospital death</b></td>\n",
    "    <td class=\"tg-yw42\"><b>Target Variable</b></td>\n",
    "    <td class=\"tg-yw42\"><b>(0: survivor, or 1: died in-hospital)</b></td>\n",
    "</tr>\n",
    " "
   ]
  },
  {
   "cell_type": "markdown",
   "metadata": {},
   "source": [
    "<div style=\"width:900px;background:#F9EECF;border:1px solid black;text-align:left;padding:20px;\">\n",
    "\n",
    "<span style=\"color:purple;font-size:13pt\"><b>Import Packages</span></b>\n",
    "\n",
    "</div>"
   ]
  },
  {
   "cell_type": "code",
   "execution_count": 1,
   "metadata": {
    "collapsed": true
   },
   "outputs": [],
   "source": [
    "# Import packages\n",
    "\n",
    "import pandas as pd\n",
    "import numpy as np\n",
    "\n",
    "\n",
    "import seaborn as sns\n",
    "\n",
    "from sklearn.preprocessing import RobustScaler, OneHotEncoder\n",
    "from sklearn.pipeline import FeatureUnion\n",
    "from sklearn.base import BaseEstimator, TransformerMixin\n",
    "\n",
    "from sklearn.model_selection import GridSearchCV\n",
    "from sklearn.tree import DecisionTreeClassifier\n",
    "from sklearn.ensemble import RandomForestClassifier\n",
    "\n",
    "from sklearn.metrics import classification_report\n",
    "\n",
    "from statsmodels.stats.outliers_influence import variance_inflation_factor\n",
    "\n",
    "pd.set_option('display.max_columns', 200)\n",
    "pd.set_option('display.max_rows',200)\n",
    "\n",
    "\n",
    "sns.set_style('whitegrid')\n",
    "sns.set(rc={\"figure.figsize\": (15, 8)})\n",
    "\n",
    "%config InlineBackend.figure_format = 'retina'\n",
    "%matplotlib inline"
   ]
  },
  {
   "cell_type": "code",
   "execution_count": 2,
   "metadata": {
    "collapsed": true
   },
   "outputs": [],
   "source": [
    "# Simple cleaning on csv file\n",
    "\n",
    "selected_X = pd.read_csv('selected_Xy.csv')\n",
    "selected_X.set_index('recordid',inplace=True)"
   ]
  },
  {
   "cell_type": "code",
   "execution_count": 3,
   "metadata": {
    "collapsed": true
   },
   "outputs": [],
   "source": [
    "y = selected_X['in-hospital_death']"
   ]
  },
  {
   "cell_type": "code",
   "execution_count": 4,
   "metadata": {
    "collapsed": true
   },
   "outputs": [],
   "source": [
    "selected_X = selected_X.drop('in-hospital_death',axis=1)   # identify predictors "
   ]
  },
  {
   "cell_type": "markdown",
   "metadata": {},
   "source": [
    "<div style=\"width:900px;background:#F9EECF;border:1px solid black;text-align:left;padding:20px;\">\n",
    "\n",
    "<p>\n",
    "\n",
    "<span style=\"color:purple;font-size:13pt\"><b>Dealing with Imbalance and Modeling</span></b>\n",
    "\n",
    "</div>"
   ]
  },
  {
   "cell_type": "code",
   "execution_count": 5,
   "metadata": {
    "collapsed": true
   },
   "outputs": [],
   "source": [
    "# Train test split\n",
    "\n",
    "from sklearn.model_selection import train_test_split\n",
    "\n",
    "X_train, X_test, y_train, y_test = train_test_split(selected_X, y, test_size=0.33, random_state=2,stratify=y)"
   ]
  },
  {
   "cell_type": "markdown",
   "metadata": {},
   "source": [
    "<div style=\"width:900px;background:#F9EECF;border:1px solid black;text-align:left;padding:20px;\">\n",
    "\n",
    "<p><b>EasyEnsemble + Weighted Logistic Loss</b>\n",
    "<br> SVM\n",
    "</div>"
   ]
  },
  {
   "cell_type": "code",
   "execution_count": 124,
   "metadata": {
    "collapsed": true
   },
   "outputs": [],
   "source": [
    "from imblearn.ensemble import EasyEnsemble\n",
    "\n",
    "ee = EasyEnsemble(n_subsets=3)\n",
    "X_train_res_ee, y_train_res_ee = ee.fit_sample(X_train, y_train)"
   ]
  },
  {
   "cell_type": "code",
   "execution_count": 125,
   "metadata": {},
   "outputs": [
    {
     "data": {
      "text/plain": [
       "(3, 740, 33)"
      ]
     },
     "execution_count": 125,
     "metadata": {},
     "output_type": "execute_result"
    }
   ],
   "source": [
    "X_train_res_ee.shape"
   ]
  },
  {
   "cell_type": "code",
   "execution_count": 126,
   "metadata": {
    "collapsed": true
   },
   "outputs": [],
   "source": [
    "a, b, c = X_train_res_ee.shape\n",
    "X_train_res_ee = X_train_res_ee.reshape((a*b,c))"
   ]
  },
  {
   "cell_type": "code",
   "execution_count": 127,
   "metadata": {},
   "outputs": [
    {
     "data": {
      "text/plain": [
       "(2220, 33)"
      ]
     },
     "execution_count": 127,
     "metadata": {},
     "output_type": "execute_result"
    }
   ],
   "source": [
    "X_train_res_ee.shape"
   ]
  },
  {
   "cell_type": "code",
   "execution_count": 128,
   "metadata": {
    "collapsed": true
   },
   "outputs": [],
   "source": [
    "a,b = y_train_res_ee.shape\n",
    "y_train_res_ee = y_train_res_ee.reshape((a*b))"
   ]
  },
  {
   "cell_type": "code",
   "execution_count": 129,
   "metadata": {},
   "outputs": [
    {
     "data": {
      "text/plain": [
       "1110.0"
      ]
     },
     "execution_count": 129,
     "metadata": {},
     "output_type": "execute_result"
    }
   ],
   "source": [
    "y_train_res_ee.sum()"
   ]
  },
  {
   "cell_type": "code",
   "execution_count": 130,
   "metadata": {},
   "outputs": [
    {
     "data": {
      "text/plain": [
       "2220"
      ]
     },
     "execution_count": 130,
     "metadata": {},
     "output_type": "execute_result"
    }
   ],
   "source": [
    "len(y_train_res_ee)"
   ]
  },
  {
   "cell_type": "code",
   "execution_count": 131,
   "metadata": {},
   "outputs": [
    {
     "name": "stdout",
     "output_type": "stream",
     "text": [
      "Fitting 3 folds for each of 200 candidates, totalling 600 fits\n"
     ]
    },
    {
     "ename": "KeyboardInterrupt",
     "evalue": "",
     "output_type": "error",
     "traceback": [
      "\u001b[0;31m---------------------------------------------------------------------------\u001b[0m",
      "\u001b[0;31mKeyboardInterrupt\u001b[0m                         Traceback (most recent call last)",
      "\u001b[0;32m<ipython-input-131-0baafae92c18>\u001b[0m in \u001b[0;36m<module>\u001b[0;34m()\u001b[0m\n\u001b[1;32m      8\u001b[0m \u001b[0;34m\u001b[0m\u001b[0m\n\u001b[1;32m      9\u001b[0m \u001b[0msvc_gs\u001b[0m \u001b[0;34m=\u001b[0m \u001b[0mGridSearchCV\u001b[0m\u001b[0;34m(\u001b[0m\u001b[0mSVC\u001b[0m\u001b[0;34m(\u001b[0m\u001b[0mclass_weight\u001b[0m\u001b[0;34m=\u001b[0m\u001b[0;34m'balanced'\u001b[0m\u001b[0;34m,\u001b[0m \u001b[0mrandom_state\u001b[0m\u001b[0;34m=\u001b[0m\u001b[0;36m2\u001b[0m\u001b[0;34m)\u001b[0m\u001b[0;34m,\u001b[0m \u001b[0msvc_params\u001b[0m\u001b[0;34m,\u001b[0m \u001b[0mcv\u001b[0m\u001b[0;34m=\u001b[0m\u001b[0;36m3\u001b[0m\u001b[0;34m,\u001b[0m \u001b[0mverbose\u001b[0m\u001b[0;34m=\u001b[0m\u001b[0;36m1\u001b[0m\u001b[0;34m)\u001b[0m\u001b[0;34m\u001b[0m\u001b[0m\n\u001b[0;32m---> 10\u001b[0;31m \u001b[0msvc_gs\u001b[0m\u001b[0;34m.\u001b[0m\u001b[0mfit\u001b[0m\u001b[0;34m(\u001b[0m\u001b[0mX_train_res_ee\u001b[0m\u001b[0;34m,\u001b[0m \u001b[0my_train_res_ee\u001b[0m\u001b[0;34m)\u001b[0m\u001b[0;34m\u001b[0m\u001b[0m\n\u001b[0m",
      "\u001b[0;32m/Users/joannasyeow/anaconda/lib/python2.7/site-packages/sklearn/model_selection/_search.pyc\u001b[0m in \u001b[0;36mfit\u001b[0;34m(self, X, y, groups, **fit_params)\u001b[0m\n\u001b[1;32m    636\u001b[0m                                   error_score=self.error_score)\n\u001b[1;32m    637\u001b[0m           for parameters, (train, test) in product(candidate_params,\n\u001b[0;32m--> 638\u001b[0;31m                                                    cv.split(X, y, groups)))\n\u001b[0m\u001b[1;32m    639\u001b[0m \u001b[0;34m\u001b[0m\u001b[0m\n\u001b[1;32m    640\u001b[0m         \u001b[0;31m# if one choose to see train score, \"out\" will contain train score info\u001b[0m\u001b[0;34m\u001b[0m\u001b[0;34m\u001b[0m\u001b[0m\n",
      "\u001b[0;32m/Users/joannasyeow/anaconda/lib/python2.7/site-packages/sklearn/externals/joblib/parallel.pyc\u001b[0m in \u001b[0;36m__call__\u001b[0;34m(self, iterable)\u001b[0m\n\u001b[1;32m    777\u001b[0m             \u001b[0;31m# was dispatched. In particular this covers the edge\u001b[0m\u001b[0;34m\u001b[0m\u001b[0;34m\u001b[0m\u001b[0m\n\u001b[1;32m    778\u001b[0m             \u001b[0;31m# case of Parallel used with an exhausted iterator.\u001b[0m\u001b[0;34m\u001b[0m\u001b[0;34m\u001b[0m\u001b[0m\n\u001b[0;32m--> 779\u001b[0;31m             \u001b[0;32mwhile\u001b[0m \u001b[0mself\u001b[0m\u001b[0;34m.\u001b[0m\u001b[0mdispatch_one_batch\u001b[0m\u001b[0;34m(\u001b[0m\u001b[0miterator\u001b[0m\u001b[0;34m)\u001b[0m\u001b[0;34m:\u001b[0m\u001b[0;34m\u001b[0m\u001b[0m\n\u001b[0m\u001b[1;32m    780\u001b[0m                 \u001b[0mself\u001b[0m\u001b[0;34m.\u001b[0m\u001b[0m_iterating\u001b[0m \u001b[0;34m=\u001b[0m \u001b[0mTrue\u001b[0m\u001b[0;34m\u001b[0m\u001b[0m\n\u001b[1;32m    781\u001b[0m             \u001b[0;32melse\u001b[0m\u001b[0;34m:\u001b[0m\u001b[0;34m\u001b[0m\u001b[0m\n",
      "\u001b[0;32m/Users/joannasyeow/anaconda/lib/python2.7/site-packages/sklearn/externals/joblib/parallel.pyc\u001b[0m in \u001b[0;36mdispatch_one_batch\u001b[0;34m(self, iterator)\u001b[0m\n\u001b[1;32m    623\u001b[0m                 \u001b[0;32mreturn\u001b[0m \u001b[0mFalse\u001b[0m\u001b[0;34m\u001b[0m\u001b[0m\n\u001b[1;32m    624\u001b[0m             \u001b[0;32melse\u001b[0m\u001b[0;34m:\u001b[0m\u001b[0;34m\u001b[0m\u001b[0m\n\u001b[0;32m--> 625\u001b[0;31m                 \u001b[0mself\u001b[0m\u001b[0;34m.\u001b[0m\u001b[0m_dispatch\u001b[0m\u001b[0;34m(\u001b[0m\u001b[0mtasks\u001b[0m\u001b[0;34m)\u001b[0m\u001b[0;34m\u001b[0m\u001b[0m\n\u001b[0m\u001b[1;32m    626\u001b[0m                 \u001b[0;32mreturn\u001b[0m \u001b[0mTrue\u001b[0m\u001b[0;34m\u001b[0m\u001b[0m\n\u001b[1;32m    627\u001b[0m \u001b[0;34m\u001b[0m\u001b[0m\n",
      "\u001b[0;32m/Users/joannasyeow/anaconda/lib/python2.7/site-packages/sklearn/externals/joblib/parallel.pyc\u001b[0m in \u001b[0;36m_dispatch\u001b[0;34m(self, batch)\u001b[0m\n\u001b[1;32m    586\u001b[0m         \u001b[0mdispatch_timestamp\u001b[0m \u001b[0;34m=\u001b[0m \u001b[0mtime\u001b[0m\u001b[0;34m.\u001b[0m\u001b[0mtime\u001b[0m\u001b[0;34m(\u001b[0m\u001b[0;34m)\u001b[0m\u001b[0;34m\u001b[0m\u001b[0m\n\u001b[1;32m    587\u001b[0m         \u001b[0mcb\u001b[0m \u001b[0;34m=\u001b[0m \u001b[0mBatchCompletionCallBack\u001b[0m\u001b[0;34m(\u001b[0m\u001b[0mdispatch_timestamp\u001b[0m\u001b[0;34m,\u001b[0m \u001b[0mlen\u001b[0m\u001b[0;34m(\u001b[0m\u001b[0mbatch\u001b[0m\u001b[0;34m)\u001b[0m\u001b[0;34m,\u001b[0m \u001b[0mself\u001b[0m\u001b[0;34m)\u001b[0m\u001b[0;34m\u001b[0m\u001b[0m\n\u001b[0;32m--> 588\u001b[0;31m         \u001b[0mjob\u001b[0m \u001b[0;34m=\u001b[0m \u001b[0mself\u001b[0m\u001b[0;34m.\u001b[0m\u001b[0m_backend\u001b[0m\u001b[0;34m.\u001b[0m\u001b[0mapply_async\u001b[0m\u001b[0;34m(\u001b[0m\u001b[0mbatch\u001b[0m\u001b[0;34m,\u001b[0m \u001b[0mcallback\u001b[0m\u001b[0;34m=\u001b[0m\u001b[0mcb\u001b[0m\u001b[0;34m)\u001b[0m\u001b[0;34m\u001b[0m\u001b[0m\n\u001b[0m\u001b[1;32m    589\u001b[0m         \u001b[0mself\u001b[0m\u001b[0;34m.\u001b[0m\u001b[0m_jobs\u001b[0m\u001b[0;34m.\u001b[0m\u001b[0mappend\u001b[0m\u001b[0;34m(\u001b[0m\u001b[0mjob\u001b[0m\u001b[0;34m)\u001b[0m\u001b[0;34m\u001b[0m\u001b[0m\n\u001b[1;32m    590\u001b[0m \u001b[0;34m\u001b[0m\u001b[0m\n",
      "\u001b[0;32m/Users/joannasyeow/anaconda/lib/python2.7/site-packages/sklearn/externals/joblib/_parallel_backends.pyc\u001b[0m in \u001b[0;36mapply_async\u001b[0;34m(self, func, callback)\u001b[0m\n\u001b[1;32m    109\u001b[0m     \u001b[0;32mdef\u001b[0m \u001b[0mapply_async\u001b[0m\u001b[0;34m(\u001b[0m\u001b[0mself\u001b[0m\u001b[0;34m,\u001b[0m \u001b[0mfunc\u001b[0m\u001b[0;34m,\u001b[0m \u001b[0mcallback\u001b[0m\u001b[0;34m=\u001b[0m\u001b[0mNone\u001b[0m\u001b[0;34m)\u001b[0m\u001b[0;34m:\u001b[0m\u001b[0;34m\u001b[0m\u001b[0m\n\u001b[1;32m    110\u001b[0m         \u001b[0;34m\"\"\"Schedule a func to be run\"\"\"\u001b[0m\u001b[0;34m\u001b[0m\u001b[0m\n\u001b[0;32m--> 111\u001b[0;31m         \u001b[0mresult\u001b[0m \u001b[0;34m=\u001b[0m \u001b[0mImmediateResult\u001b[0m\u001b[0;34m(\u001b[0m\u001b[0mfunc\u001b[0m\u001b[0;34m)\u001b[0m\u001b[0;34m\u001b[0m\u001b[0m\n\u001b[0m\u001b[1;32m    112\u001b[0m         \u001b[0;32mif\u001b[0m \u001b[0mcallback\u001b[0m\u001b[0;34m:\u001b[0m\u001b[0;34m\u001b[0m\u001b[0m\n\u001b[1;32m    113\u001b[0m             \u001b[0mcallback\u001b[0m\u001b[0;34m(\u001b[0m\u001b[0mresult\u001b[0m\u001b[0;34m)\u001b[0m\u001b[0;34m\u001b[0m\u001b[0m\n",
      "\u001b[0;32m/Users/joannasyeow/anaconda/lib/python2.7/site-packages/sklearn/externals/joblib/_parallel_backends.pyc\u001b[0m in \u001b[0;36m__init__\u001b[0;34m(self, batch)\u001b[0m\n\u001b[1;32m    330\u001b[0m         \u001b[0;31m# Don't delay the application, to avoid keeping the input\u001b[0m\u001b[0;34m\u001b[0m\u001b[0;34m\u001b[0m\u001b[0m\n\u001b[1;32m    331\u001b[0m         \u001b[0;31m# arguments in memory\u001b[0m\u001b[0;34m\u001b[0m\u001b[0;34m\u001b[0m\u001b[0m\n\u001b[0;32m--> 332\u001b[0;31m         \u001b[0mself\u001b[0m\u001b[0;34m.\u001b[0m\u001b[0mresults\u001b[0m \u001b[0;34m=\u001b[0m \u001b[0mbatch\u001b[0m\u001b[0;34m(\u001b[0m\u001b[0;34m)\u001b[0m\u001b[0;34m\u001b[0m\u001b[0m\n\u001b[0m\u001b[1;32m    333\u001b[0m \u001b[0;34m\u001b[0m\u001b[0m\n\u001b[1;32m    334\u001b[0m     \u001b[0;32mdef\u001b[0m \u001b[0mget\u001b[0m\u001b[0;34m(\u001b[0m\u001b[0mself\u001b[0m\u001b[0;34m)\u001b[0m\u001b[0;34m:\u001b[0m\u001b[0;34m\u001b[0m\u001b[0m\n",
      "\u001b[0;32m/Users/joannasyeow/anaconda/lib/python2.7/site-packages/sklearn/externals/joblib/parallel.pyc\u001b[0m in \u001b[0;36m__call__\u001b[0;34m(self)\u001b[0m\n\u001b[1;32m    129\u001b[0m \u001b[0;34m\u001b[0m\u001b[0m\n\u001b[1;32m    130\u001b[0m     \u001b[0;32mdef\u001b[0m \u001b[0m__call__\u001b[0m\u001b[0;34m(\u001b[0m\u001b[0mself\u001b[0m\u001b[0;34m)\u001b[0m\u001b[0;34m:\u001b[0m\u001b[0;34m\u001b[0m\u001b[0m\n\u001b[0;32m--> 131\u001b[0;31m         \u001b[0;32mreturn\u001b[0m \u001b[0;34m[\u001b[0m\u001b[0mfunc\u001b[0m\u001b[0;34m(\u001b[0m\u001b[0;34m*\u001b[0m\u001b[0margs\u001b[0m\u001b[0;34m,\u001b[0m \u001b[0;34m**\u001b[0m\u001b[0mkwargs\u001b[0m\u001b[0;34m)\u001b[0m \u001b[0;32mfor\u001b[0m \u001b[0mfunc\u001b[0m\u001b[0;34m,\u001b[0m \u001b[0margs\u001b[0m\u001b[0;34m,\u001b[0m \u001b[0mkwargs\u001b[0m \u001b[0;32min\u001b[0m \u001b[0mself\u001b[0m\u001b[0;34m.\u001b[0m\u001b[0mitems\u001b[0m\u001b[0;34m]\u001b[0m\u001b[0;34m\u001b[0m\u001b[0m\n\u001b[0m\u001b[1;32m    132\u001b[0m \u001b[0;34m\u001b[0m\u001b[0m\n\u001b[1;32m    133\u001b[0m     \u001b[0;32mdef\u001b[0m \u001b[0m__len__\u001b[0m\u001b[0;34m(\u001b[0m\u001b[0mself\u001b[0m\u001b[0;34m)\u001b[0m\u001b[0;34m:\u001b[0m\u001b[0;34m\u001b[0m\u001b[0m\n",
      "\u001b[0;32m/Users/joannasyeow/anaconda/lib/python2.7/site-packages/sklearn/model_selection/_validation.pyc\u001b[0m in \u001b[0;36m_fit_and_score\u001b[0;34m(estimator, X, y, scorer, train, test, verbose, parameters, fit_params, return_train_score, return_parameters, return_n_test_samples, return_times, error_score)\u001b[0m\n\u001b[1;32m    435\u001b[0m             \u001b[0mestimator\u001b[0m\u001b[0;34m.\u001b[0m\u001b[0mfit\u001b[0m\u001b[0;34m(\u001b[0m\u001b[0mX_train\u001b[0m\u001b[0;34m,\u001b[0m \u001b[0;34m**\u001b[0m\u001b[0mfit_params\u001b[0m\u001b[0;34m)\u001b[0m\u001b[0;34m\u001b[0m\u001b[0m\n\u001b[1;32m    436\u001b[0m         \u001b[0;32melse\u001b[0m\u001b[0;34m:\u001b[0m\u001b[0;34m\u001b[0m\u001b[0m\n\u001b[0;32m--> 437\u001b[0;31m             \u001b[0mestimator\u001b[0m\u001b[0;34m.\u001b[0m\u001b[0mfit\u001b[0m\u001b[0;34m(\u001b[0m\u001b[0mX_train\u001b[0m\u001b[0;34m,\u001b[0m \u001b[0my_train\u001b[0m\u001b[0;34m,\u001b[0m \u001b[0;34m**\u001b[0m\u001b[0mfit_params\u001b[0m\u001b[0;34m)\u001b[0m\u001b[0;34m\u001b[0m\u001b[0m\n\u001b[0m\u001b[1;32m    438\u001b[0m \u001b[0;34m\u001b[0m\u001b[0m\n\u001b[1;32m    439\u001b[0m     \u001b[0;32mexcept\u001b[0m \u001b[0mException\u001b[0m \u001b[0;32mas\u001b[0m \u001b[0me\u001b[0m\u001b[0;34m:\u001b[0m\u001b[0;34m\u001b[0m\u001b[0m\n",
      "\u001b[0;32m/Users/joannasyeow/anaconda/lib/python2.7/site-packages/sklearn/svm/base.pyc\u001b[0m in \u001b[0;36mfit\u001b[0;34m(self, X, y, sample_weight)\u001b[0m\n\u001b[1;32m    185\u001b[0m \u001b[0;34m\u001b[0m\u001b[0m\n\u001b[1;32m    186\u001b[0m         \u001b[0mseed\u001b[0m \u001b[0;34m=\u001b[0m \u001b[0mrnd\u001b[0m\u001b[0;34m.\u001b[0m\u001b[0mrandint\u001b[0m\u001b[0;34m(\u001b[0m\u001b[0mnp\u001b[0m\u001b[0;34m.\u001b[0m\u001b[0miinfo\u001b[0m\u001b[0;34m(\u001b[0m\u001b[0;34m'i'\u001b[0m\u001b[0;34m)\u001b[0m\u001b[0;34m.\u001b[0m\u001b[0mmax\u001b[0m\u001b[0;34m)\u001b[0m\u001b[0;34m\u001b[0m\u001b[0m\n\u001b[0;32m--> 187\u001b[0;31m         \u001b[0mfit\u001b[0m\u001b[0;34m(\u001b[0m\u001b[0mX\u001b[0m\u001b[0;34m,\u001b[0m \u001b[0my\u001b[0m\u001b[0;34m,\u001b[0m \u001b[0msample_weight\u001b[0m\u001b[0;34m,\u001b[0m \u001b[0msolver_type\u001b[0m\u001b[0;34m,\u001b[0m \u001b[0mkernel\u001b[0m\u001b[0;34m,\u001b[0m \u001b[0mrandom_seed\u001b[0m\u001b[0;34m=\u001b[0m\u001b[0mseed\u001b[0m\u001b[0;34m)\u001b[0m\u001b[0;34m\u001b[0m\u001b[0m\n\u001b[0m\u001b[1;32m    188\u001b[0m         \u001b[0;31m# see comment on the other call to np.iinfo in this file\u001b[0m\u001b[0;34m\u001b[0m\u001b[0;34m\u001b[0m\u001b[0m\n\u001b[1;32m    189\u001b[0m \u001b[0;34m\u001b[0m\u001b[0m\n",
      "\u001b[0;32m/Users/joannasyeow/anaconda/lib/python2.7/site-packages/sklearn/svm/base.pyc\u001b[0m in \u001b[0;36m_dense_fit\u001b[0;34m(self, X, y, sample_weight, solver_type, kernel, random_seed)\u001b[0m\n\u001b[1;32m    252\u001b[0m                 \u001b[0mcache_size\u001b[0m\u001b[0;34m=\u001b[0m\u001b[0mself\u001b[0m\u001b[0;34m.\u001b[0m\u001b[0mcache_size\u001b[0m\u001b[0;34m,\u001b[0m \u001b[0mcoef0\u001b[0m\u001b[0;34m=\u001b[0m\u001b[0mself\u001b[0m\u001b[0;34m.\u001b[0m\u001b[0mcoef0\u001b[0m\u001b[0;34m,\u001b[0m\u001b[0;34m\u001b[0m\u001b[0m\n\u001b[1;32m    253\u001b[0m                 \u001b[0mgamma\u001b[0m\u001b[0;34m=\u001b[0m\u001b[0mself\u001b[0m\u001b[0;34m.\u001b[0m\u001b[0m_gamma\u001b[0m\u001b[0;34m,\u001b[0m \u001b[0mepsilon\u001b[0m\u001b[0;34m=\u001b[0m\u001b[0mself\u001b[0m\u001b[0;34m.\u001b[0m\u001b[0mepsilon\u001b[0m\u001b[0;34m,\u001b[0m\u001b[0;34m\u001b[0m\u001b[0m\n\u001b[0;32m--> 254\u001b[0;31m                 max_iter=self.max_iter, random_seed=random_seed)\n\u001b[0m\u001b[1;32m    255\u001b[0m \u001b[0;34m\u001b[0m\u001b[0m\n\u001b[1;32m    256\u001b[0m         \u001b[0mself\u001b[0m\u001b[0;34m.\u001b[0m\u001b[0m_warn_from_fit_status\u001b[0m\u001b[0;34m(\u001b[0m\u001b[0;34m)\u001b[0m\u001b[0;34m\u001b[0m\u001b[0m\n",
      "\u001b[0;31mKeyboardInterrupt\u001b[0m: "
     ]
    }
   ],
   "source": [
    "from sklearn.svm import SVC\n",
    "\n",
    "svc_params = {\n",
    "    'C':np.logspace(-3, 2, 10),\n",
    "    'gamma':np.logspace(-5, 2, 10),\n",
    "    'kernel':['linear','rbf']\n",
    "}\n",
    "\n",
    "svc_gs = GridSearchCV(SVC(class_weight='balanced', random_state=2), svc_params, cv=3, verbose=1)\n",
    "svc_gs.fit(X_train_res_ee, y_train_res_ee)\n"
   ]
  },
  {
   "cell_type": "code",
   "execution_count": null,
   "metadata": {
    "collapsed": true
   },
   "outputs": [],
   "source": [
    "svc_best = svc_gs.best_estimator_\n",
    "print svc_gs.best_params_\n",
    "print svc_gs.best_score_"
   ]
  },
  {
   "cell_type": "code",
   "execution_count": null,
   "metadata": {
    "collapsed": true
   },
   "outputs": [],
   "source": [
    "y_pred = svc_best.predict(X_test)\n",
    "print classification_report(y_test,y_pred)"
   ]
  },
  {
   "cell_type": "markdown",
   "metadata": {},
   "source": [
    "<div style=\"width:900px;background:#F9EECF;border:1px solid black;text-align:left;padding:20px;\">\n",
    "\n",
    "<p><b>SMOTEENN + Weighted Logistic Loss</b>\n",
    "<br> SVM\n",
    "</div>"
   ]
  },
  {
   "cell_type": "code",
   "execution_count": 6,
   "metadata": {
    "collapsed": true
   },
   "outputs": [],
   "source": [
    "# Using SMOTEEN + Weighted Logistic Loss\n",
    "\n",
    "from imblearn.combine import SMOTEENN\n",
    "from imblearn.over_sampling import SMOTE\n",
    "\n",
    "smoteenn = SMOTEENN(random_state=2,smote=SMOTE(ratio={1:1100},random_state=2))\n",
    "X_train_res, y_train_res = smoteenn.fit_sample(X_train, y_train)"
   ]
  },
  {
   "cell_type": "code",
   "execution_count": 11,
   "metadata": {},
   "outputs": [
    {
     "data": {
      "text/plain": [
       "0.38728813559322034"
      ]
     },
     "execution_count": 11,
     "metadata": {},
     "output_type": "execute_result"
    }
   ],
   "source": [
    "y_train_res.sum() / len(y_train_res)"
   ]
  },
  {
   "cell_type": "code",
   "execution_count": 13,
   "metadata": {},
   "outputs": [
    {
     "name": "stdout",
     "output_type": "stream",
     "text": [
      "Fitting 3 folds for each of 100 candidates, totalling 300 fits\n"
     ]
    },
    {
     "name": "stderr",
     "output_type": "stream",
     "text": [
      "[Parallel(n_jobs=-1)]: Done  42 tasks      | elapsed:    5.8s\n",
      "[Parallel(n_jobs=-1)]: Done 192 tasks      | elapsed:   24.5s\n",
      "[Parallel(n_jobs=-1)]: Done 300 out of 300 | elapsed:   37.1s finished\n"
     ]
    },
    {
     "data": {
      "text/plain": [
       "GridSearchCV(cv=3, error_score='raise',\n",
       "       estimator=SVC(C=1.0, cache_size=200, class_weight='balanced', coef0=0.0,\n",
       "  decision_function_shape='ovr', degree=3, gamma='auto', kernel='rbf',\n",
       "  max_iter=-1, probability=False, random_state=2, shrinking=True,\n",
       "  tol=0.001, verbose=False),\n",
       "       fit_params=None, iid=True, n_jobs=-1,\n",
       "       param_grid={'kernel': ['rbf'], 'C': array([  1.00000e-03,   3.59381e-03,   1.29155e-02,   4.64159e-02,\n",
       "         1.66810e-01,   5.99484e-01,   2.15443e+00,   7.74264e+00,\n",
       "         2.78256e+01,   1.00000e+02]), 'gamma': array([  1.00000e-05,   5.99484e-05,   3.59381e-04,   2.15443e-03,\n",
       "         1.29155e-02,   7.74264e-02,   4.64159e-01,   2.78256e+00,\n",
       "         1.66810e+01,   1.00000e+02])},\n",
       "       pre_dispatch='2*n_jobs', refit=True, return_train_score=True,\n",
       "       scoring=None, verbose=1)"
      ]
     },
     "execution_count": 13,
     "metadata": {},
     "output_type": "execute_result"
    }
   ],
   "source": [
    "# Fit resampled training set on SVM\n",
    "from sklearn.svm import SVC\n",
    "\n",
    "svc_params = {\n",
    "    'C':np.logspace(-3, 2, 10),\n",
    "    'gamma':np.logspace(-5, 2, 10),\n",
    "    'kernel':['rbf']\n",
    "}\n",
    "\n",
    "svc_gs = GridSearchCV(SVC(class_weight='balanced', random_state=2), svc_params, cv=3, verbose=1,n_jobs=-1)\n",
    "svc_gs.fit(X_train_res, y_train_res)\n"
   ]
  },
  {
   "cell_type": "code",
   "execution_count": 14,
   "metadata": {},
   "outputs": [
    {
     "name": "stdout",
     "output_type": "stream",
     "text": [
      "{'kernel': 'rbf', 'C': 7.7426368268112773, 'gamma': 0.077426368268112694}\n",
      "0.963983050847\n"
     ]
    }
   ],
   "source": [
    "svc_best = svc_gs.best_estimator_\n",
    "print svc_gs.best_params_\n",
    "print svc_gs.best_score_"
   ]
  },
  {
   "cell_type": "code",
   "execution_count": 15,
   "metadata": {},
   "outputs": [
    {
     "name": "stdout",
     "output_type": "stream",
     "text": [
      "             precision    recall  f1-score   support\n",
      "\n",
      "        0.0       0.89      0.89      0.89      1127\n",
      "        1.0       0.32      0.34      0.33       182\n",
      "\n",
      "avg / total       0.81      0.81      0.81      1309\n",
      "\n"
     ]
    }
   ],
   "source": [
    "y_pred = svc_best.predict(X_test)\n",
    "print classification_report(y_test,y_pred)"
   ]
  },
  {
   "cell_type": "markdown",
   "metadata": {},
   "source": [
    "<div style=\"width:900px;background:#F9EECF;border:1px solid black;text-align:left;padding:20px;\">\n",
    "\n",
    "<p><b>SMOTEENN + Weighted Logistic Loss</b>\n",
    "<br> Bagging SVM\n",
    "</div>"
   ]
  },
  {
   "cell_type": "code",
   "execution_count": null,
   "metadata": {
    "collapsed": true
   },
   "outputs": [],
   "source": [
    "from sklearn.ensemble import BaggingClassifier\n",
    "\n",
    "bagging = BaggingClassifier(base_estimator=svc_best, n_estimators=1,warm_start=True)\n",
    "bagging.fit(X_train_res, y_train_res)"
   ]
  },
  {
   "cell_type": "code",
   "execution_count": null,
   "metadata": {
    "collapsed": true
   },
   "outputs": [],
   "source": [
    "y_pred = bagging.predict(X_test)\n",
    "print classification_report(y_test,y_pred)"
   ]
  },
  {
   "cell_type": "code",
   "execution_count": null,
   "metadata": {
    "collapsed": true
   },
   "outputs": [],
   "source": []
  }
 ],
 "metadata": {
  "kernelspec": {
   "display_name": "Python 2",
   "language": "python",
   "name": "python2"
  },
  "language_info": {
   "codemirror_mode": {
    "name": "ipython",
    "version": 2
   },
   "file_extension": ".py",
   "mimetype": "text/x-python",
   "name": "python",
   "nbconvert_exporter": "python",
   "pygments_lexer": "ipython2",
   "version": "2.7.13"
  }
 },
 "nbformat": 4,
 "nbformat_minor": 2
}
