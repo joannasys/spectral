{
 "cells": [
  {
   "cell_type": "markdown",
   "metadata": {},
   "source": [
    "<div style=\"width:900px;background:#F9EECF;border:1px solid black;text-align:left;padding:20px;\">\n",
    "<span style=\"color:purple;font-size:13pt\"><b>Data Dictionary</span></b>\n",
    "</div>\n",
    "\n",
    "<div style=\"width:900px;float:left;padding:20px;align:left;\">\n",
    "Descriptors:\n",
    "<br><br>\n",
    "<style type=\"text/css\">\n",
    ".tg  {border-collapse:collapse;border-spacing:0;}\n",
    ".tg td{font-family:Arial, sans-serif;font-size:14px;padding:10px 5px;border-style:solid;border-width:1px;overflow:hidden;word-break:normal;}\n",
    ".tg th{font-family:Arial, sans-serif;font-size:14px;font-weight:normal;padding:10px 5px;border-style:solid;border-width:1px;overflow:hidden;word-break:normal;}\n",
    ".tg .tg-2lp6{font-weight:bold;background-color:#bbdaff;vertical-align:top}\n",
    ".tg .tg-amwm{font-weight:bold;text-align:center;vertical-align:top}\n",
    ".tg .tg-36xf{font-weight:bold;background-color:#bbdaff}\n",
    ".tg .tg-yw4l{vertical-align:top}\n",
    ".tg .tg-yw42{vertical-align:top;color:blue}\n",
    "</style>\n",
    "<table class=\"tg\">\n",
    "\n",
    "  <tr>\n",
    "    <th class=\"tg-36xf\">Feature Name</th>\n",
    "    <th class=\"tg-2lp6\">Description</th>\n",
    "    <th class=\"tg-2lp6\">Metrics</th>\n",
    "  </tr>\n",
    "          \n",
    "<tr>\n",
    "    <td class=\"tg-yw4l\">RecordID</td>\n",
    "    <td class=\"tg-yw4l\">A unique integer for each ICU stay </td>\n",
    "    <td class=\"tg-yw4l\">Integer</td>\n",
    "</tr>\n",
    "<tr>\n",
    "    <td class=\"tg-yw4l\">Age</td>\n",
    "    <td class=\"tg-yw4l\">Age</td>\n",
    "    <td class=\"tg-yw4l\">(years)</td>\n",
    "</tr>\n",
    "\n",
    "<tr>\n",
    "    <td class=\"tg-yw4l\">Height</td>\n",
    "    <td class=\"tg-yw4l\">Height</td>\n",
    "    <td class=\"tg-yw4l\">(cm)</td>\n",
    "</tr>\n",
    "\n",
    "<tr>\n",
    "    <td class=\"tg-yw4l\">ICUtype</td>\n",
    "    <td class=\"tg-yw4l\">ICU Type</td>\n",
    "    <td class=\"tg-yw4l\">(1: Coronary Care Unit, 2: Cardiac Surgery Recovery Unit, <br>3: Medical ICU, or 4: Surgical ICU)</td>\n",
    "</tr>\n",
    "\n",
    "<tr>\n",
    "    <td class=\"tg-yw4l\">Gender</td>\n",
    "    <td class=\"tg-yw4l\">Gender</td>\n",
    "    <td class=\"tg-yw4l\">(0: female, or 1: male)</td>\n",
    "</tr>\n",
    "\n",
    "</table>\n",
    "<br><br>\n",
    "These 37 variables may be observed once, more than once, or not at all in some cases:\n",
    "<br><br>\n",
    "\n",
    "<table class=\"tg\">\n",
    "<tr>\n",
    "    <th class=\"tg-36xf\">Feature Name</th>\n",
    "    <th class=\"tg-2lp6\">Description</th>\n",
    "    <th class=\"tg-2lp6\">Metrics</th>\n",
    "</tr>\n",
    "          \n",
    "<tr>\n",
    "    <td class=\"tg-yw4l\">Albumin</td>\n",
    "    <td class=\"tg-yw4l\">Albumin </td>\n",
    "    <td class=\"tg-yw4l\">(g/dL)</td>\n",
    "</tr>\n",
    "<tr>\n",
    "    <td class=\"tg-yw4l\">ALP</td>\n",
    "    <td class=\"tg-yw4l\">Alkaline phosphatase</td>\n",
    "    <td class=\"tg-yw4l\">(IU/L)</td>\n",
    "</tr>\n",
    "<tr>\n",
    "<td class=\"tg-yw4l\">ALT</td>\n",
    "<td class=\"tg-yw4l\">Alanine transaminase</td> \n",
    "<td class=\"tg-yw4l\">(IU/L)</td>\n",
    "</tr>\n",
    "<tr>\n",
    "<td class=\"tg-yw4l\">AST</td>\n",
    "<td class=\"tg-yw4l\">Aspartate transaminase</td>\n",
    "<td class=\"tg-yw4l\">(IU/L)</td>\n",
    "</tr>\n",
    "<tr>\n",
    "<td class=\"tg-yw4l\">Bilirubin</td>\n",
    "<td class=\"tg-yw4l\">Bilirubin</td>\n",
    "<td class=\"tg-yw4l\">(mg/dL)</td>\n",
    "</tr>\n",
    "<tr>\n",
    "<td class=\"tg-yw4l\">BUN</td>\n",
    "<td class=\"tg-yw4l\">Blood urea nitrogen</td>\n",
    "<td class=\"tg-yw4l\">(mg/dL)</td>\n",
    "</tr>\n",
    "<tr>\n",
    "<td class=\"tg-yw4l\">Cholesterol</td>\n",
    "<td class=\"tg-yw4l\">Cholesterol</td>\n",
    "<td class=\"tg-yw4l\">(mg/dL)</td>\n",
    "</tr>\n",
    "<tr>\n",
    "<td class=\"tg-yw4l\">Creatinine</td>\n",
    "<td class=\"tg-yw4l\">Serum creatinine</td>\n",
    "<td class=\"tg-yw4l\">(mg/dL)</td>\n",
    "</tr>\n",
    "\n",
    "<tr>\n",
    "<td class=\"tg-yw4l\">DiasABP <td class=\"tg-yw4l\">Invasive diastolic arterial blood pressure <td class=\"tg-yw4l\">(mmHg)</tr>\n",
    "\n",
    "<tr><td class=\"tg-yw4l\">FiO2 <td class=\"tg-yw4l\">Fractional inspired O2 <td class=\"tg-yw4l\">(0-1)</tr>\n",
    "<tr><td class=\"tg-yw4l\">GCS <td class=\"tg-yw4l\">Glasgow Coma Score <td class=\"tg-yw4l\">(3-15)</tr>\n",
    "<tr><td class=\"tg-yw4l\">Glucose <td class=\"tg-yw4l\">Serum glucose <td class=\"tg-yw4l\">(mg/dL)</tr>\n",
    "<tr><td class=\"tg-yw4l\">HCO3 <td class=\"tg-yw4l\">Serum bicarbonate <td class=\"tg-yw4l\">(mmol/L)</tr>\n",
    "<tr><td class=\"tg-yw4l\">HCT <td class=\"tg-yw4l\">Hematocrit <td class=\"tg-yw4l\">(%)</tr>\n",
    "<tr><td class=\"tg-yw4l\">HR <td class=\"tg-yw4l\">Heart rate <td class=\"tg-yw4l\">(bpm)</tr>\n",
    "<tr><td class=\"tg-yw4l\">K <td class=\"tg-yw4l\">Serum potassium <td class=\"tg-yw4l\">(mEq/L)</tr>\n",
    "<tr><td class=\"tg-yw4l\">Lactate <td class=\"tg-yw4l\">Lactate<td class=\"tg-yw4l\">(mmol/L)</tr>\n",
    "<tr><td class=\"tg-yw4l\">Mg <td class=\"tg-yw4l\">Serum magnesium <td class=\"tg-yw4l\">(mmol/L)</tr>\n",
    "<tr><td class=\"tg-yw4l\">MAP <td class=\"tg-yw4l\">Invasive mean arterial blood pressure <td class=\"tg-yw4l\">(mmHg)</tr>\n",
    "<tr><td class=\"tg-yw4l\">MechVent <td class=\"tg-yw4l\">Mechanical ventilation respiration <td class=\"tg-yw4l\">(0:false, or 1:true)</tr>\n",
    "<tr><td class=\"tg-yw4l\">Na <td class=\"tg-yw4l\">Serum sodium <td class=\"tg-yw4l\">(mEq/L)</tr>\n",
    "<tr><td class=\"tg-yw4l\">NIDiasABP <td class=\"tg-yw4l\">Non-invasive diastolic arterial blood pressure <td class=\"tg-yw4l\">(mmHg)</tr>\n",
    "<tr><td class=\"tg-yw4l\">NIMAP <td class=\"tg-yw4l\">Non-invasive mean arterial blood pressure <td class=\"tg-yw4l\">(mmHg)</tr>\n",
    "<tr><td class=\"tg-yw4l\">NISysABP <td class=\"tg-yw4l\">Non-invasive systolic arterial blood pressure <td class=\"tg-yw4l\">(mmHg)</tr>\n",
    "<tr><td class=\"tg-yw4l\">PaCO2 <td class=\"tg-yw4l\">partial pressure of arterial CO2 <td class=\"tg-yw4l\">(mmHg)</tr>\n",
    "<tr><td class=\"tg-yw4l\">PaO2 <td class=\"tg-yw4l\">Partial pressure of arterial O2 <td class=\"tg-yw4l\">(mmHg)</tr>\n",
    "<tr><td class=\"tg-yw4l\">pH <td class=\"tg-yw4l\">Arterial pH <td class=\"tg-yw4l\">(0-14)</tr>\n",
    "<tr><td class=\"tg-yw4l\">Platelets <td class=\"tg-yw4l\">Platelets<td class=\"tg-yw4l\">(cells/nL)</tr>\n",
    "<tr><td class=\"tg-yw4l\">RespRate <td class=\"tg-yw4l\">Respiration rate <td class=\"tg-yw4l\">(bpm)</tr>\n",
    "<tr><td class=\"tg-yw4l\">SaO2 <td class=\"tg-yw4l\">O2 saturation in hemoglobin <td class=\"tg-yw4l\">(%)</tr>\n",
    "<tr><td class=\"tg-yw4l\">SysABP <td class=\"tg-yw4l\">Invasive systolic arterial blood pressure <td class=\"tg-yw4l\">(mmHg)</tr>\n",
    "<tr><td class=\"tg-yw4l\">Temp <td class=\"tg-yw4l\">Temperature <td class=\"tg-yw4l\">(°C)</tr>\n",
    "<tr><td class=\"tg-yw4l\">TropI <td class=\"tg-yw4l\">Troponin-I <td class=\"tg-yw4l\">(μg/L)</tr>\n",
    "<tr><td class=\"tg-yw4l\">TropT <td class=\"tg-yw4l\">Troponin-T <td class=\"tg-yw4l\">(μg/L)</tr>\n",
    "<tr><td class=\"tg-yw4l\">Urine <td class=\"tg-yw4l\">Urine output <td class=\"tg-yw4l\">(mL)</tr>\n",
    "<tr><td class=\"tg-yw4l\">WBC <td class=\"tg-yw4l\">White blood cell count <td class=\"tg-yw4l\">(cells/nL)</tr>\n",
    "<tr><td class=\"tg-yw4l\">Weight <td class=\"tg-yw4l\">Weight<td class=\"tg-yw4l\">(kg)</tr></table>\n",
    "\n",
    "<br><br>\n",
    "Outcomes-Related Descriptors:\n",
    "\n",
    "<table class=\"tg\">\n",
    "<tr>\n",
    "    <th class=\"tg-36xf\">Outcomes</th>\n",
    "    <th class=\"tg-2lp6\">Description</th>\n",
    "    <th class=\"tg-2lp6\">Metrics</th>\n",
    "</tr>\n",
    "          \n",
    "<tr>\n",
    "    <td class=\"tg-yw4l\">SAPS-I score</td>\n",
    "    <td class=\"tg-yw4l\">(Le Gall et al., 1984) </td>\n",
    "    <td class=\"tg-yw4l\">between 0 to 163</td>\n",
    "</tr>\n",
    "  \n",
    "<tr>\n",
    "    <td class=\"tg-yw4l\">SOFA score</td>\n",
    "    <td class=\"tg-yw4l\">(Ferreira et al., 2001) </td>\n",
    "    <td class=\"tg-yw4l\">between 0 to 4</td>\n",
    "</tr>\n",
    "  \n",
    "<tr>\n",
    "    <td class=\"tg-yw4l\">Length of stay</td>\n",
    "    <td class=\"tg-yw4l\">Length of stay </td>\n",
    "    <td class=\"tg-yw4l\">(days)</td>\n",
    "</tr>\n",
    "\n",
    "<tr>\n",
    "    <td class=\"tg-yw4l\">Survival</td>\n",
    "    <td class=\"tg-yw4l\">Survival</td>\n",
    "    <td class=\"tg-yw4l\">(days)</td>\n",
    "</tr>\n",
    "\n",
    "<tr>\n",
    "    <td class=\"tg-yw42\"><b>In-hospital death</b></td>\n",
    "    <td class=\"tg-yw42\"><b>Target Variable</b></td>\n",
    "    <td class=\"tg-yw42\"><b>(0: survivor, or 1: died in-hospital)</b></td>\n",
    "</tr>\n",
    " "
   ]
  },
  {
   "cell_type": "markdown",
   "metadata": {},
   "source": [
    "<div style=\"width:900px;background:#F9EECF;border:1px solid black;text-align:left;padding:20px;\">\n",
    "\n",
    "<span style=\"color:purple;font-size:13pt\"><b>Import Packages</span></b>\n",
    "\n",
    "</div>"
   ]
  },
  {
   "cell_type": "code",
   "execution_count": 2,
   "metadata": {
    "collapsed": true
   },
   "outputs": [],
   "source": [
    "# Import packages\n",
    "\n",
    "import pandas as pd\n",
    "import numpy as np\n",
    "\n",
    "\n",
    "import seaborn as sns\n",
    "\n",
    "from sklearn.preprocessing import RobustScaler, OneHotEncoder\n",
    "from sklearn.pipeline import FeatureUnion\n",
    "from sklearn.base import BaseEstimator, TransformerMixin\n",
    "\n",
    "from sklearn.model_selection import GridSearchCV\n",
    "\n",
    "from statsmodels.stats.outliers_influence import variance_inflation_factor\n",
    "\n",
    "pd.set_option('display.max_columns', 200)\n",
    "pd.set_option('display.max_rows',200)\n",
    "\n",
    "\n",
    "sns.set_style('whitegrid')\n",
    "sns.set(rc={\"figure.figsize\": (15, 8)})\n",
    "\n",
    "%config InlineBackend.figure_format = 'retina'\n",
    "%matplotlib inline"
   ]
  },
  {
   "cell_type": "code",
   "execution_count": 3,
   "metadata": {
    "collapsed": true
   },
   "outputs": [],
   "source": [
    "# Simple cleaning on csv file\n",
    "\n",
    "selected_X = pd.read_csv('selected_Xy.csv')\n",
    "selected_X.set_index('recordid',inplace=True)"
   ]
  },
  {
   "cell_type": "code",
   "execution_count": 4,
   "metadata": {
    "collapsed": true
   },
   "outputs": [],
   "source": [
    "y = selected_X['in-hospital_death']"
   ]
  },
  {
   "cell_type": "code",
   "execution_count": 5,
   "metadata": {
    "collapsed": true
   },
   "outputs": [],
   "source": [
    "selected_X = selected_X.drop('in-hospital_death',axis=1)   # identify predictors "
   ]
  },
  {
   "cell_type": "markdown",
   "metadata": {},
   "source": [
    "<div style=\"width:900px;background:#F9EECF;border:1px solid black;text-align:left;padding:20px;\">\n",
    "\n",
    "<p>\n",
    "\n",
    "<span style=\"color:purple;font-size:13pt\"><b>Dealing with Imbalance and Modeling</span></b>\n",
    "<br><br>\n",
    "<b>Weighted Logistic Loss</b>\n",
    "<br> Logistic Regression CV\n",
    "</div>"
   ]
  },
  {
   "cell_type": "code",
   "execution_count": 6,
   "metadata": {
    "collapsed": true
   },
   "outputs": [],
   "source": [
    "# Train test split\n",
    "\n",
    "from sklearn.model_selection import train_test_split\n",
    "\n",
    "X_train, X_test, y_train, y_test = train_test_split(selected_X, y, test_size=0.33, random_state=2,stratify=y)"
   ]
  },
  {
   "cell_type": "code",
   "execution_count": 7,
   "metadata": {},
   "outputs": [
    {
     "data": {
      "text/plain": [
       "LogisticRegressionCV(Cs=10, class_weight='balance', cv=None, dual=False,\n",
       "           fit_intercept=True, intercept_scaling=1.0, max_iter=200,\n",
       "           multi_class='ovr', n_jobs=-1, penalty='l2', random_state=2,\n",
       "           refit=True, scoring=None, solver='lbfgs', tol=0.0001, verbose=0)"
      ]
     },
     "execution_count": 7,
     "metadata": {},
     "output_type": "execute_result"
    }
   ],
   "source": [
    "# Weighted Logistic Loss\n",
    "\n",
    "from sklearn.linear_model import LogisticRegressionCV\n",
    "\n",
    "logregcv = LogisticRegressionCV(class_weight='balance',n_jobs=-1, random_state=2,max_iter=200)\n",
    "logregcv.fit(X_train, y_train)"
   ]
  },
  {
   "cell_type": "code",
   "execution_count": 8,
   "metadata": {},
   "outputs": [
    {
     "data": {
      "text/plain": [
       "0.86096256684491979"
      ]
     },
     "execution_count": 8,
     "metadata": {},
     "output_type": "execute_result"
    }
   ],
   "source": [
    "y_pred = logregcv.predict(X_test)\n",
    "logregcv.score(X_test,y_test)"
   ]
  },
  {
   "cell_type": "code",
   "execution_count": 9,
   "metadata": {},
   "outputs": [
    {
     "name": "stdout",
     "output_type": "stream",
     "text": [
      "             precision    recall  f1-score   support\n",
      "\n",
      "        0.0       0.86      1.00      0.93      1127\n",
      "        1.0       0.00      0.00      0.00       182\n",
      "\n",
      "avg / total       0.74      0.86      0.80      1309\n",
      "\n"
     ]
    },
    {
     "name": "stderr",
     "output_type": "stream",
     "text": [
      "/Users/joannasyeow/anaconda/lib/python2.7/site-packages/sklearn/metrics/classification.py:1135: UndefinedMetricWarning: Precision and F-score are ill-defined and being set to 0.0 in labels with no predicted samples.\n",
      "  'precision', 'predicted', average, warn_for)\n"
     ]
    }
   ],
   "source": [
    "from sklearn.metrics import classification_report\n",
    "\n",
    "print classification_report(y_test,y_pred)"
   ]
  },
  {
   "cell_type": "markdown",
   "metadata": {},
   "source": [
    "<div style=\"width:900px;background:#F9EECF;border:1px solid black;text-align:left;padding:20px;\">\n",
    "\n",
    "Not a single postive instance (died in hospital) is predicted!\n",
    "\n",
    "</div>"
   ]
  },
  {
   "cell_type": "markdown",
   "metadata": {},
   "source": [
    "<div style=\"width:900px;background:#F9EECF;border:1px solid black;text-align:left;padding:20px;\">\n",
    "\n",
    "<p><b>SMOTEENN + Weighted Logistic Loss</b>\n",
    "<br> Logistic Regression CV\n",
    "</div>"
   ]
  },
  {
   "cell_type": "code",
   "execution_count": 10,
   "metadata": {
    "collapsed": true
   },
   "outputs": [],
   "source": [
    "# Using SMOTEEN + Weighted Logistic Loss\n",
    "\n",
    "from imblearn.combine import SMOTEENN\n",
    "\n",
    "smoteenn = SMOTEENN(random_state=2)\n",
    "X_train_res, y_train_res = smoteenn.fit_sample(X_train, y_train)"
   ]
  },
  {
   "cell_type": "code",
   "execution_count": 11,
   "metadata": {},
   "outputs": [
    {
     "data": {
      "text/plain": [
       "0.64650229357798161"
      ]
     },
     "execution_count": 11,
     "metadata": {},
     "output_type": "execute_result"
    }
   ],
   "source": [
    "y_train_res.sum()/ len(y_train_res)  # Percentage of samples in the minority class "
   ]
  },
  {
   "cell_type": "code",
   "execution_count": 12,
   "metadata": {},
   "outputs": [
    {
     "data": {
      "text/plain": [
       "LogisticRegressionCV(Cs=10, class_weight='balance', cv=None, dual=False,\n",
       "           fit_intercept=True, intercept_scaling=1.0, max_iter=200,\n",
       "           multi_class='ovr', n_jobs=-1, penalty='l2', random_state=2,\n",
       "           refit=True, scoring=None, solver='lbfgs', tol=0.0001, verbose=0)"
      ]
     },
     "execution_count": 12,
     "metadata": {},
     "output_type": "execute_result"
    }
   ],
   "source": [
    "# Fit resampled training set on Logistic Regression CV\n",
    "\n",
    "from sklearn.linear_model import LogisticRegressionCV\n",
    "\n",
    "logregcv = LogisticRegressionCV(class_weight='balance',n_jobs=-1, random_state=2,max_iter=200)\n",
    "logregcv.fit(X_train_res, y_train_res)"
   ]
  },
  {
   "cell_type": "code",
   "execution_count": 13,
   "metadata": {},
   "outputs": [
    {
     "data": {
      "text/plain": [
       "0.53934300993124518"
      ]
     },
     "execution_count": 13,
     "metadata": {},
     "output_type": "execute_result"
    }
   ],
   "source": [
    "y_pred = logregcv.predict(X_test)\n",
    "logregcv.score(X_test,y_test)"
   ]
  },
  {
   "cell_type": "code",
   "execution_count": 14,
   "metadata": {},
   "outputs": [
    {
     "name": "stdout",
     "output_type": "stream",
     "text": [
      "             precision    recall  f1-score   support\n",
      "\n",
      "        0.0       0.97      0.48      0.64      1127\n",
      "        1.0       0.22      0.90      0.35       182\n",
      "\n",
      "avg / total       0.86      0.54      0.60      1309\n",
      "\n"
     ]
    }
   ],
   "source": [
    "print classification_report(y_test,y_pred)"
   ]
  },
  {
   "cell_type": "markdown",
   "metadata": {},
   "source": [
    "<div style=\"width:900px;background:#F9EECF;border:1px solid black;text-align:left;padding:20px;\">\n",
    "\n",
    "<p><b>PCA - Reduced Dimensionality</b>\n",
    "<br> Logistic Regression CV\n",
    "</div>"
   ]
  },
  {
   "cell_type": "code",
   "execution_count": 18,
   "metadata": {
    "scrolled": false
   },
   "outputs": [
    {
     "data": {
      "text/html": [
       "<div>\n",
       "<style>\n",
       "    .dataframe thead tr:only-child th {\n",
       "        text-align: right;\n",
       "    }\n",
       "\n",
       "    .dataframe thead th {\n",
       "        text-align: left;\n",
       "    }\n",
       "\n",
       "    .dataframe tbody tr th {\n",
       "        vertical-align: top;\n",
       "    }\n",
       "</style>\n",
       "<table border=\"1\" class=\"dataframe\">\n",
       "  <thead>\n",
       "    <tr style=\"text-align: right;\">\n",
       "      <th></th>\n",
       "      <th>precision</th>\n",
       "      <th>recall</th>\n",
       "      <th>f1_score</th>\n",
       "    </tr>\n",
       "  </thead>\n",
       "  <tbody>\n",
       "    <tr>\n",
       "      <th>1</th>\n",
       "      <td>0.131902</td>\n",
       "      <td>0.472527</td>\n",
       "      <td>0.206235</td>\n",
       "    </tr>\n",
       "    <tr>\n",
       "      <th>2</th>\n",
       "      <td>0.150990</td>\n",
       "      <td>0.670330</td>\n",
       "      <td>0.246465</td>\n",
       "    </tr>\n",
       "    <tr>\n",
       "      <th>3</th>\n",
       "      <td>0.148289</td>\n",
       "      <td>0.857143</td>\n",
       "      <td>0.252836</td>\n",
       "    </tr>\n",
       "    <tr>\n",
       "      <th>4</th>\n",
       "      <td>0.178035</td>\n",
       "      <td>0.846154</td>\n",
       "      <td>0.294174</td>\n",
       "    </tr>\n",
       "    <tr>\n",
       "      <th>5</th>\n",
       "      <td>0.175573</td>\n",
       "      <td>0.884615</td>\n",
       "      <td>0.292994</td>\n",
       "    </tr>\n",
       "    <tr>\n",
       "      <th>6</th>\n",
       "      <td>0.169087</td>\n",
       "      <td>0.895604</td>\n",
       "      <td>0.284468</td>\n",
       "    </tr>\n",
       "    <tr>\n",
       "      <th>7</th>\n",
       "      <td>0.170146</td>\n",
       "      <td>0.895604</td>\n",
       "      <td>0.285965</td>\n",
       "    </tr>\n",
       "    <tr>\n",
       "      <th>8</th>\n",
       "      <td>0.178066</td>\n",
       "      <td>0.829670</td>\n",
       "      <td>0.293204</td>\n",
       "    </tr>\n",
       "    <tr>\n",
       "      <th>9</th>\n",
       "      <td>0.185360</td>\n",
       "      <td>0.862637</td>\n",
       "      <td>0.305151</td>\n",
       "    </tr>\n",
       "    <tr>\n",
       "      <th>10</th>\n",
       "      <td>0.183508</td>\n",
       "      <td>0.868132</td>\n",
       "      <td>0.302972</td>\n",
       "    </tr>\n",
       "    <tr>\n",
       "      <th>11</th>\n",
       "      <td>0.187886</td>\n",
       "      <td>0.835165</td>\n",
       "      <td>0.306761</td>\n",
       "    </tr>\n",
       "    <tr>\n",
       "      <th>12</th>\n",
       "      <td>0.192020</td>\n",
       "      <td>0.846154</td>\n",
       "      <td>0.313008</td>\n",
       "    </tr>\n",
       "    <tr>\n",
       "      <th>13</th>\n",
       "      <td>0.191436</td>\n",
       "      <td>0.835165</td>\n",
       "      <td>0.311475</td>\n",
       "    </tr>\n",
       "    <tr>\n",
       "      <th>14</th>\n",
       "      <td>0.195707</td>\n",
       "      <td>0.851648</td>\n",
       "      <td>0.318275</td>\n",
       "    </tr>\n",
       "    <tr>\n",
       "      <th>15</th>\n",
       "      <td>0.195448</td>\n",
       "      <td>0.802198</td>\n",
       "      <td>0.314316</td>\n",
       "    </tr>\n",
       "    <tr>\n",
       "      <th>16</th>\n",
       "      <td>0.197351</td>\n",
       "      <td>0.818681</td>\n",
       "      <td>0.318036</td>\n",
       "    </tr>\n",
       "    <tr>\n",
       "      <th>17</th>\n",
       "      <td>0.200820</td>\n",
       "      <td>0.807692</td>\n",
       "      <td>0.321663</td>\n",
       "    </tr>\n",
       "    <tr>\n",
       "      <th>18</th>\n",
       "      <td>0.200272</td>\n",
       "      <td>0.807692</td>\n",
       "      <td>0.320961</td>\n",
       "    </tr>\n",
       "    <tr>\n",
       "      <th>19</th>\n",
       "      <td>0.197236</td>\n",
       "      <td>0.862637</td>\n",
       "      <td>0.321063</td>\n",
       "    </tr>\n",
       "    <tr>\n",
       "      <th>20</th>\n",
       "      <td>0.197970</td>\n",
       "      <td>0.857143</td>\n",
       "      <td>0.321649</td>\n",
       "    </tr>\n",
       "    <tr>\n",
       "      <th>21</th>\n",
       "      <td>0.213137</td>\n",
       "      <td>0.873626</td>\n",
       "      <td>0.342672</td>\n",
       "    </tr>\n",
       "    <tr>\n",
       "      <th>22</th>\n",
       "      <td>0.213802</td>\n",
       "      <td>0.868132</td>\n",
       "      <td>0.343105</td>\n",
       "    </tr>\n",
       "    <tr>\n",
       "      <th>23</th>\n",
       "      <td>0.212737</td>\n",
       "      <td>0.862637</td>\n",
       "      <td>0.341304</td>\n",
       "    </tr>\n",
       "    <tr>\n",
       "      <th>24</th>\n",
       "      <td>0.213997</td>\n",
       "      <td>0.873626</td>\n",
       "      <td>0.343784</td>\n",
       "    </tr>\n",
       "    <tr>\n",
       "      <th>25</th>\n",
       "      <td>0.216438</td>\n",
       "      <td>0.868132</td>\n",
       "      <td>0.346491</td>\n",
       "    </tr>\n",
       "    <tr>\n",
       "      <th>26</th>\n",
       "      <td>0.213499</td>\n",
       "      <td>0.851648</td>\n",
       "      <td>0.341410</td>\n",
       "    </tr>\n",
       "    <tr>\n",
       "      <th>27</th>\n",
       "      <td>0.211096</td>\n",
       "      <td>0.857143</td>\n",
       "      <td>0.338762</td>\n",
       "    </tr>\n",
       "    <tr>\n",
       "      <th>28</th>\n",
       "      <td>0.211796</td>\n",
       "      <td>0.868132</td>\n",
       "      <td>0.340517</td>\n",
       "    </tr>\n",
       "    <tr>\n",
       "      <th>29</th>\n",
       "      <td>0.213137</td>\n",
       "      <td>0.873626</td>\n",
       "      <td>0.342672</td>\n",
       "    </tr>\n",
       "  </tbody>\n",
       "</table>\n",
       "</div>"
      ],
      "text/plain": [
       "    precision    recall  f1_score\n",
       "1    0.131902  0.472527  0.206235\n",
       "2    0.150990  0.670330  0.246465\n",
       "3    0.148289  0.857143  0.252836\n",
       "4    0.178035  0.846154  0.294174\n",
       "5    0.175573  0.884615  0.292994\n",
       "6    0.169087  0.895604  0.284468\n",
       "7    0.170146  0.895604  0.285965\n",
       "8    0.178066  0.829670  0.293204\n",
       "9    0.185360  0.862637  0.305151\n",
       "10   0.183508  0.868132  0.302972\n",
       "11   0.187886  0.835165  0.306761\n",
       "12   0.192020  0.846154  0.313008\n",
       "13   0.191436  0.835165  0.311475\n",
       "14   0.195707  0.851648  0.318275\n",
       "15   0.195448  0.802198  0.314316\n",
       "16   0.197351  0.818681  0.318036\n",
       "17   0.200820  0.807692  0.321663\n",
       "18   0.200272  0.807692  0.320961\n",
       "19   0.197236  0.862637  0.321063\n",
       "20   0.197970  0.857143  0.321649\n",
       "21   0.213137  0.873626  0.342672\n",
       "22   0.213802  0.868132  0.343105\n",
       "23   0.212737  0.862637  0.341304\n",
       "24   0.213997  0.873626  0.343784\n",
       "25   0.216438  0.868132  0.346491\n",
       "26   0.213499  0.851648  0.341410\n",
       "27   0.211096  0.857143  0.338762\n",
       "28   0.211796  0.868132  0.340517\n",
       "29   0.213137  0.873626  0.342672"
      ]
     },
     "execution_count": 18,
     "metadata": {},
     "output_type": "execute_result"
    }
   ],
   "source": [
    "# PCA\n",
    "\n",
    "from sklearn.decomposition import PCA\n",
    "from sklearn.metrics import precision_recall_fscore_support\n",
    "\n",
    "scores = []\n",
    "\n",
    "for n in range(1,30):              # Loop through difference number of components\n",
    "\n",
    "    pca = PCA(n_components=n)\n",
    "    X_2d = pca.fit_transform(selected_X)\n",
    "\n",
    "    X_train_2d, X_test_2d, y_train_2d, y_test_2d = train_test_split(X_2d, y, test_size=0.33, random_state=2,stratify=y)\n",
    "    \n",
    "    smoteenn = SMOTEENN(random_state=2)\n",
    "    X_train_res_2d, y_train_res_2d = smoteenn.fit_sample(X_train_2d, y_train_2d)\n",
    "\n",
    "    logregcv = LogisticRegressionCV(class_weight='balance',n_jobs=-1, random_state=2,max_iter=200)\n",
    "    logregcv.fit(X_train_res_2d, y_train_res_2d)\n",
    "\n",
    "    y_pred = logregcv.predict(X_test_2d)\n",
    "    logregcv.score(X_test_2d,y_test_2d)\n",
    "    \n",
    "    \n",
    "    component_score = [precision_recall_fscore_support(y_test, y_pred)[0][1], \\\n",
    "                       precision_recall_fscore_support(y_test, y_pred)[1][1], \\\n",
    "                       precision_recall_fscore_support(y_test, y_pred)[2][1],]\n",
    "    \n",
    "    scores.append(component_score)\n",
    "\n",
    "score_report = pd.DataFrame(data=scores,columns=['precision','recall','f1_score'],index=range(1,30))\n",
    "score_report"
   ]
  },
  {
   "cell_type": "code",
   "execution_count": 17,
   "metadata": {},
   "outputs": [
    {
     "data": {
      "text/plain": [
       "<matplotlib.text.Text at 0x115dc23d0>"
      ]
     },
     "execution_count": 17,
     "metadata": {},
     "output_type": "execute_result"
    },
    {
     "data": {
      "image/png": "[encoded data removed]",
      "text/plain": [
       "<matplotlib.figure.Figure at 0x115e92090>"
      ]
     },
     "metadata": {
      "image/png": {
       "height": 262,
       "width": 385
      }
     },
     "output_type": "display_data"
    }
   ],
   "source": [
    "import matplotlib.pyplot as plt\n",
    "plt.plot(range(1,30),score_report)\n",
    "plt.legend(labels=['precision','recall','f1_score'])\n",
    "plt.xlabel('n_components')\n",
    "plt.ylabel('scores')"
   ]
  },
  {
   "cell_type": "markdown",
   "metadata": {},
   "source": [
    "<div style=\"width:900px;background:#F9EECF;border:1px solid black;text-align:left;padding:20px;\">\n",
    "\n",
    "<p><b>NearMiss 2</b>\n",
    "<br> Logistic Regression CV\n",
    "</div>"
   ]
  },
  {
   "cell_type": "code",
   "execution_count": 27,
   "metadata": {},
   "outputs": [
    {
     "name": "stdout",
     "output_type": "stream",
     "text": [
      "             precision    recall  f1-score   support\n",
      "\n",
      "        0.0       0.96      0.48      0.64      1127\n",
      "        1.0       0.21      0.87      0.34       182\n",
      "\n",
      "avg / total       0.86      0.53      0.60      1309\n",
      "\n"
     ]
    }
   ],
   "source": [
    "from imblearn.under_sampling import NearMiss\n",
    "\n",
    "nm2 = NearMiss(random_state=2, version=2, n_neighbors=k,n_jobs=-1)\n",
    "X_train_res_nm, y_train_res_nm = nm2.fit_sample(X_train, y_train)\n",
    "    \n",
    "# Fit resampled training set on Logistic Regression CV\n",
    "\n",
    "logregcv = LogisticRegressionCV(class_weight='balance',n_jobs=-1, random_state=2,max_iter=200)\n",
    "logregcv.fit(X_train_res, y_train_res)\n",
    "\n",
    "y_pred = logregcv.predict(X_test)\n",
    "    \n",
    "print classification_report(y_test,y_pred)"
   ]
  },
  {
   "cell_type": "code",
   "execution_count": 22,
   "metadata": {},
   "outputs": [
    {
     "name": "stdout",
     "output_type": "stream",
     "text": [
      "0.895604395604\n",
      "0.218206157965\n"
     ]
    }
   ],
   "source": [
    "print recall_score(y_test, y_pred)\n",
    "print precision_score(y_test, y_pred)"
   ]
  },
  {
   "cell_type": "code",
   "execution_count": null,
   "metadata": {
    "collapsed": true
   },
   "outputs": [],
   "source": []
  }
 ],
 "metadata": {
  "kernelspec": {
   "display_name": "Python 2",
   "language": "python",
   "name": "python2"
  },
  "language_info": {
   "codemirror_mode": {
    "name": "ipython",
    "version": 2
   },
   "file_extension": ".py",
   "mimetype": "text/x-python",
   "name": "python",
   "nbconvert_exporter": "python",
   "pygments_lexer": "ipython2",
   "version": "2.7.13"
  }
 },
 "nbformat": 4,
 "nbformat_minor": 2
}
