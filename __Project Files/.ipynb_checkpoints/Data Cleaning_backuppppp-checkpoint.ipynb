{
 "cells": [
  {
   "cell_type": "markdown",
   "metadata": {},
   "source": [
    "RecordID (a unique integer for each ICU stay)\n",
    "\n",
    "Age (years)<br>\n",
    "Gender (0: female, or 1: male)<br>\n",
    "Height (cm)<br>\n",
    "ICUType (1: Coronary Care Unit, 2: Cardiac Surgery Recovery Unit, 3: Medical ICU, or 4: Surgical ICU)<br>\n",
    "Weight (kg)"
   ]
  },
  {
   "cell_type": "markdown",
   "metadata": {},
   "source": [
    "Variables Description \n",
    "\n",
    "ALB Albumin (g/dL) <br>\n",
    "ALP Alkaline phosphatase (IU/L) <br>\n",
    "ALT Alanine transaminase (IU/L) <br>\n",
    "AST Aspartate transaminase (IU/L) <br>\n",
    "BIL Bilirubin (mg/dL) <br>\n",
    "BUN Blood urea nitrogen (mg/dL) <br>\n",
    "CHO Cholesterol (mg/dL) <br>\n",
    "CREA Serum creatinine (mg/dL) <br>\n",
    "DBP Invasive diastolic arterial blood pressure (mmHg) <br>\n",
    "FIO Fractional inspired O2 (0-1) <br>\n",
    "GCS Glasgow Coma Score (3-15) <br>\n",
    "GLU Serum glucose (mg/dL) <br>\n",
    "HCO Serum bicarbonate (mmol/L)  <br> \n",
    "HCT Hematocrit (%) <br>\n",
    "HR Heart rate (bpm) <br>\n",
    "K Serum potassium (mEq/L) <br>\n",
    "LAC Lactate (mmol/L) <br>\n",
    "MG Serum magnesium (mmol/L) <br>\n",
    "MAP Invasive mean arterial blood pressure (mmHg) <br>\n",
    "MEVE Mechanical ventilation respiration <br>\n",
    "NA Serum sodium (mEq/L) <br>\n",
    "NBP Non-invasive diastolic arterial blood pressure (mmHg) <br>\n",
    "NAP Non-invasive mean arterial blood pressure (mmHg) <br>\n",
    "NSP Non-invasive systolic arterial blood pressure (mmHg) <br>\n",
    "PCO partial pressure of arterial <br>\n",
    "CO2 (mmHg) <br>\n",
    "PO2 Partial pressure of arterial <br>\n",
    "O2 (mmHg) <br>\n",
    "PH Arterial pH (0-14) <br>\n",
    "PLA cells/nL RRA Respiration rate (bpm) <br>\n",
    "SO2 O2 saturation in hemoglobin (%) <br>\n",
    "SBP Invasive systolic arterial blood pressure (mmHg) <br>\n",
    "TEM Temperature (°C) <br>\n",
    "TRI Troponin-I (μg/L) <br>\n",
    "TRT Troponin-T (μg/L) <br>\n",
    "URI Urine output (mL) <br>\n",
    "WBC White blood cell count (cells/nL) <br>\n",
    "WEI kg <br>"
   ]
  },
  {
   "cell_type": "markdown",
   "metadata": {},
   "source": [
    "<div style=\"width:900px;background:#F9EECF;border:1px solid black;text-align:left;padding:20px;\">\n",
    "\n",
    "<span style=\"color:purple;font-size:13pt\"><b>Import Packages</span></b>\n",
    "\n",
    "</div>"
   ]
  },
  {
   "cell_type": "code",
   "execution_count": 1,
   "metadata": {},
   "outputs": [],
   "source": [
    "# Import packages\n",
    "\n",
    "import glob\n",
    "import csv\n",
    "import pandas as pd\n",
    "import numpy as np\n",
    "\n",
    "from sqlalchemy import create_engine\n",
    "import psycopg2\n",
    "\n",
    "import re\n",
    "\n",
    "import seaborn as sns\n",
    "\n",
    "from sklearn import preprocessing\n",
    "\n",
    "from fancyimpute import SoftImpute\n",
    "\n",
    "pd.set_option('display.max_columns', 200)\n",
    "pd.set_option('display.max_rows',200)\n",
    "\n",
    "\n",
    "sns.set_style('whitegrid')\n",
    "sns.set(rc={\"figure.figsize\": (15, 8)})\n",
    "\n",
    "%config InlineBackend.figure_format = 'retina'\n",
    "%matplotlib inline"
   ]
  },
  {
   "cell_type": "markdown",
   "metadata": {},
   "source": [
    "<div style=\"width:900px;background:#F9EECF;border:1px solid black;text-align:left;padding:20px;\">\n",
    "\n",
    "<span style=\"color:purple;font-size:13pt\"><b>EDA - Check if data is unbalanced</span></b>\n",
    "\n",
    "</div>"
   ]
  },
  {
   "cell_type": "code",
   "execution_count": 2,
   "metadata": {
    "collapsed": true
   },
   "outputs": [],
   "source": [
    "# Open set a outcomes file as dataframe\n",
    "with open('training_outcomes_a.txt') as outcomesfile:\n",
    "        \n",
    "        label = list(csv.reader(outcomesfile))                      # list of list\n",
    "        label = pd.DataFrame(label[1:],columns=label[0])            # Convert list of list to DataFrame\n",
    "        \n",
    "        label = label.astype(float)                                 # Change all values to float\n",
    "        label.columns = label.columns.str.lower()                   # Change all column to lowercase\n",
    "        \n",
    "        \n",
    "        label.set_index(['recordid'],inplace = True)                # set recordid as index"
   ]
  },
  {
   "cell_type": "code",
   "execution_count": 3,
   "metadata": {
    "collapsed": true
   },
   "outputs": [],
   "source": [
    "# Count the number of positives in dataset\n",
    "# Positives = 1 = Death, Negative = 0 = Survived\n",
    "\n",
    "def imbalance_check(column,labels):\n",
    "    \"\"\"labels can be a list or a tuple.\"\"\"\n",
    "    \n",
    "    for x in labels:\n",
    "        label = float(column[column == x].count())\n",
    "        total = float(column.count())\n",
    "        \n",
    "        percentage = float((label/total)*100)\n",
    "        \n",
    "        print 'percentage of',x,'in dataset:',percentage,'%'\n"
   ]
  },
  {
   "cell_type": "code",
   "execution_count": 4,
   "metadata": {},
   "outputs": [
    {
     "name": "stdout",
     "output_type": "stream",
     "text": [
      "percentage of 0 in dataset: 86.15 %\n",
      "percentage of 1 in dataset: 13.85 %\n"
     ]
    }
   ],
   "source": [
    "imbalance_check(label['in-hospital_death'],[0,1])     # This is an imbalanced dataset"
   ]
  },
  {
   "cell_type": "markdown",
   "metadata": {},
   "source": [
    "<div style=\"width:900px;background:#F9EECF;border:1px solid black;text-align:left;padding:20px;\">\n",
    "\n",
    "\n",
    "\n",
    "<p>\n",
    "<span style=\"color:purple;font-size:13pt\"><b>Read Data</span></b>\n",
    "<br>\n",
    "<br><b>Step 1:</b> Iterate through each patient record file\n",
    "<br><br>\n",
    "<span style=\"color:purple;font-size:13pt\"><b>Feature Engineering</span></b>\n",
    "<br><br>\n",
    "<b>Step 2:</b> Pivot-table and aggregate time series using: <b>Mean, Min, Max, First (data obtained), Last (data obtained)</b>\n",
    "<br><br>\n",
    "<span style=\"color:purple;font-size:13pt\"><b>Data Cleaning</span></b>\n",
    "<br><br>\n",
    "<b>Step 3:</b> Replace -1 values to Nan\n",
    "<br><br><i> According to data description, all valid values for general descriptors, time series variables, and outcome-related descriptors are non-negative (≥ 0). A value of -1 indicates missing or unknown data (for example, if a patient's height was not recorded).</i>\n",
    "<br><br>\n",
    "<span style=\"color:purple;font-size:13pt\"><b>Construct main DataFrame with all data</span></b>\n",
    "<br><br>\n",
    "<b>Step 4:</b> Append each patient record file into a main dataframe\n",
    "</div>"
   ]
  },
  {
   "cell_type": "code",
   "execution_count": 5,
   "metadata": {
    "collapsed": true
   },
   "outputs": [],
   "source": [
    "# Function to obtain the first data within 48 hours\n",
    "\n",
    "def first_data(column):\n",
    "\n",
    "    x = column.iloc[0]\n",
    "    \n",
    "    return x\n",
    "\n",
    "\n",
    "# Function to obtain the last data within 48 hours\n",
    "\n",
    "def last_data(column):\n",
    "    \n",
    "    x = column.iloc[-1]\n",
    "\n",
    "    return x"
   ]
  },
  {
   "cell_type": "code",
   "execution_count": 6,
   "metadata": {},
   "outputs": [],
   "source": [
    "# Iterate through each file name\n",
    "\n",
    "main = pd.DataFrame()\n",
    "\n",
    "for filename in glob.iglob('./training_set_a/*.txt'):\n",
    "    \n",
    "    # Open each file as data\n",
    "    with open(filename) as inputfile:\n",
    "        \n",
    "        data = list(csv.reader(inputfile))                      # list of list\n",
    "        data = pd.DataFrame(data[1:],columns=data[0])           # Convert list of list to DataFrame\n",
    "        data.Value = data.Value.astype(float)                   # Change Value to float\n",
    "        \n",
    "        \n",
    "        \n",
    "        # Pivot_table to convert from long to wide dataset\n",
    "\n",
    "        # Creation of new features - aggregate across the time series to find mean, min, max values\n",
    "        # mean is chosen rather than median because we want to take into the account of 'outlier values'\n",
    "\n",
    "        wide_data = pd.pivot_table(data,values=['Value'],columns='Parameter',aggfunc=[np.mean,np.min,np.max,\n",
    "                                                                                      first_data,last_data])\n",
    "        wide_data.columns = wide_data.columns.droplevel(level=0)\n",
    "        \n",
    "        \n",
    "        \n",
    "        # rename new columns & lower capitalise\n",
    "        new_columns = []\n",
    "\n",
    "        for ind, col in enumerate(wide_data.columns):\n",
    "    \n",
    "            if ind < wide_data.columns.shape[0]/5:\n",
    "                col = 'mean_'+col            \n",
    "                new_columns.append(col)\n",
    "\n",
    "            elif ind >= wide_data.columns.shape[0]/5 and ind < 2*(wide_data.columns.shape[0]/5):\n",
    "                col = 'min_'+col\n",
    "                new_columns.append(col)\n",
    "        \n",
    "            elif ind >= 2*(wide_data.columns.shape[0]/5) and ind < 3*(wide_data.columns.shape[0]/5):\n",
    "                col = 'max_'+col\n",
    "                new_columns.append(col)\n",
    "        \n",
    "            elif ind >= 3*(wide_data.columns.shape[0]/5) and ind < 4*(wide_data.columns.shape[0]/5):\n",
    "                col = 'first_'+col\n",
    "                new_columns.append(col)\n",
    "\n",
    "            else:\n",
    "                col = 'last_'+col\n",
    "                new_columns.append(col)\n",
    "        \n",
    "        wide_data.columns = new_columns\n",
    "        wide_data.columns = wide_data.columns.str.lower()\n",
    "        \n",
    "        \n",
    "        # rename descriptor row\n",
    "        wide_data.rename(columns={'mean_age':'age','mean_gender':'gender','mean_height':'height',\n",
    "                                    'mean_icutype':'icutype','mean_recordid':'recordid'},inplace=True)\n",
    "        \n",
    "        \n",
    "        # drop min/max/first/last descriptor rows\n",
    "        drop_col = wide_data.columns[wide_data.columns.str.contains(\n",
    "            '\\w+_age|\\w+_height|\\w+_gender|\\w+_icutype|\\w+_recordid')]\n",
    "        \n",
    "        wide_data.drop(drop_col,axis=1,inplace=True)\n",
    "        \n",
    "        # set recordid as index\n",
    "        wide_data.set_index(['recordid'],inplace = True)\n",
    "        \n",
    "        # replace -1 as NaN\n",
    "        wide_data.replace(-1,np.nan,inplace=True)\n",
    "        \n",
    "        main = main.append(wide_data)\n",
    "        \n",
    "# merge main data and label data\n",
    "mortality = main.merge(label,how='outer',left_index=True,right_index=True)"
   ]
  },
  {
   "cell_type": "markdown",
   "metadata": {},
   "source": [
    "<div style=\"width:900px;background:#F9EECF;border:1px solid black;text-align:left;padding:20px;\">\n",
    "\n",
    "<p>\n",
    "\n",
    "<span style=\"color:purple;font-size:13pt\"><b>Data Cleaning</span></b>\n",
    "<br><br>\n",
    "<b>Step 1:</b> Drop all columns with more than 75% NaN values\n",
    "<br><b>Step 2:</b> Drop all rows with more than 50% NaN values\n",
    "<br><b>Step 3:</b> Drop all other outcomes labels except 'in-hospital_death'\n",
    "</div>"
   ]
  },
  {
   "cell_type": "code",
   "execution_count": 7,
   "metadata": {},
   "outputs": [],
   "source": [
    "# NaN values count (columns)\n",
    "\n",
    "null_col = mortality.isnull().sum()\n",
    "null_col[null_col > 1000].index  # columns that contain more than 3/4 NaN values (75% of the rows)\n",
    "\n",
    "mortality.drop(null_col[null_col > 1000].index,axis=1,inplace = True)"
   ]
  },
  {
   "cell_type": "code",
   "execution_count": 8,
   "metadata": {},
   "outputs": [],
   "source": [
    "# NaN values count (rows)\n",
    "\n",
    "mortality['NaNs'] = mortality.isnull().sum(axis=1)\n",
    "mortality[mortality['NaNs']>57].index  # rows that contain more than 57 NaN values (50% of the features)\n",
    "\n",
    "mortality.drop(mortality[mortality['NaNs']>57].index,inplace=True)"
   ]
  },
  {
   "cell_type": "code",
   "execution_count": 9,
   "metadata": {},
   "outputs": [],
   "source": [
    "# Drop other labels\n",
    "\n",
    "label_others = mortality.drop(['saps-i','sofa','length_of_stay','survival'],axis=1)\n",
    "mortality.drop(['saps-i','sofa','length_of_stay','survival'],axis=1,inplace=True)"
   ]
  },
  {
   "cell_type": "code",
   "execution_count": 10,
   "metadata": {},
   "outputs": [],
   "source": [
    "# Drop NaN column\n",
    "\n",
    "mortality.drop(['NaNs'],axis=1,inplace=True)"
   ]
  },
  {
   "cell_type": "markdown",
   "metadata": {},
   "source": [
    "<div style=\"width:900px;background:#F9EECF;border:1px solid black;text-align:left;padding:20px;\">\n",
    "\n",
    "<p>\n",
    "\n",
    "<span style=\"color:purple;font-size:13pt\"><b>Imputing Missing Data</span></b>\n",
    "<br><br>\n",
    "<b>1:</b> Impute values based on median of gender, age & icutype\n",
    "<br><b>2:</b> Impute values based on KNN\n",
    "</div>"
   ]
  },
  {
   "cell_type": "code",
   "execution_count": 11,
   "metadata": {
    "collapsed": true
   },
   "outputs": [],
   "source": [
    "# Impute NaN value in gender\n",
    "\n",
    "mortality['gender'].fillna(mortality['gender'].mode,inplace=True)"
   ]
  },
  {
   "cell_type": "code",
   "execution_count": 23,
   "metadata": {},
   "outputs": [
    {
     "ename": "TypeError",
     "evalue": "'Series' objects are mutable, thus they cannot be hashed",
     "output_type": "error",
     "traceback": [
      "\u001b[0;31m---------------------------------------------------------------------------\u001b[0m",
      "\u001b[0;31mTypeError\u001b[0m                                 Traceback (most recent call last)",
      "\u001b[0;32m<ipython-input-23-b835eb263b1d>\u001b[0m in \u001b[0;36m<module>\u001b[0;34m()\u001b[0m\n\u001b[1;32m      6\u001b[0m \u001b[0mmedian_mortality\u001b[0m\u001b[0;34m.\u001b[0m\u001b[0mdrop\u001b[0m\u001b[0;34m(\u001b[0m\u001b[0;34m'recordid'\u001b[0m\u001b[0;34m,\u001b[0m\u001b[0maxis\u001b[0m\u001b[0;34m=\u001b[0m\u001b[0;36m1\u001b[0m\u001b[0;34m,\u001b[0m\u001b[0minplace\u001b[0m\u001b[0;34m=\u001b[0m\u001b[0mTrue\u001b[0m\u001b[0;34m)\u001b[0m\u001b[0;34m\u001b[0m\u001b[0m\n\u001b[1;32m      7\u001b[0m \u001b[0mmedian_mortality\u001b[0m\u001b[0;34m.\u001b[0m\u001b[0mhead\u001b[0m\u001b[0;34m(\u001b[0m\u001b[0;34m)\u001b[0m\u001b[0;34m\u001b[0m\u001b[0m\n\u001b[0;32m----> 8\u001b[0;31m \u001b[0mmedian_group\u001b[0m \u001b[0;34m=\u001b[0m \u001b[0mmedian_mortality\u001b[0m\u001b[0;34m.\u001b[0m\u001b[0mgroupby\u001b[0m\u001b[0;34m(\u001b[0m\u001b[0;34m[\u001b[0m\u001b[0;34m'gender'\u001b[0m\u001b[0;34m,\u001b[0m\u001b[0;34m'icutype'\u001b[0m\u001b[0;34m,\u001b[0m\u001b[0;34m'age'\u001b[0m\u001b[0;34m]\u001b[0m\u001b[0;34m)\u001b[0m\u001b[0;34m.\u001b[0m\u001b[0mmedian\u001b[0m\u001b[0;34m(\u001b[0m\u001b[0;34m)\u001b[0m  \u001b[0;31m# Groupby median of gender, age & icutype\u001b[0m\u001b[0;34m\u001b[0m\u001b[0m\n\u001b[0m",
      "\u001b[0;32m/Users/joannasyeow/anaconda/lib/python2.7/site-packages/pandas/core/groupby.pyc\u001b[0m in \u001b[0;36mmedian\u001b[0;34m(self, **kwargs)\u001b[0m\n\u001b[1;32m   1063\u001b[0m                     \u001b[0mx\u001b[0m \u001b[0;34m=\u001b[0m \u001b[0mSeries\u001b[0m\u001b[0;34m(\u001b[0m\u001b[0mx\u001b[0m\u001b[0;34m)\u001b[0m\u001b[0;34m\u001b[0m\u001b[0m\n\u001b[1;32m   1064\u001b[0m                 \u001b[0;32mreturn\u001b[0m \u001b[0mx\u001b[0m\u001b[0;34m.\u001b[0m\u001b[0mmedian\u001b[0m\u001b[0;34m(\u001b[0m\u001b[0maxis\u001b[0m\u001b[0;34m=\u001b[0m\u001b[0mself\u001b[0m\u001b[0;34m.\u001b[0m\u001b[0maxis\u001b[0m\u001b[0;34m,\u001b[0m \u001b[0;34m**\u001b[0m\u001b[0mkwargs\u001b[0m\u001b[0;34m)\u001b[0m\u001b[0;34m\u001b[0m\u001b[0m\n\u001b[0;32m-> 1065\u001b[0;31m             \u001b[0;32mreturn\u001b[0m \u001b[0mself\u001b[0m\u001b[0;34m.\u001b[0m\u001b[0m_python_agg_general\u001b[0m\u001b[0;34m(\u001b[0m\u001b[0mf\u001b[0m\u001b[0;34m)\u001b[0m\u001b[0;34m\u001b[0m\u001b[0m\n\u001b[0m\u001b[1;32m   1066\u001b[0m \u001b[0;34m\u001b[0m\u001b[0m\n\u001b[1;32m   1067\u001b[0m     \u001b[0;34m@\u001b[0m\u001b[0mSubstitution\u001b[0m\u001b[0;34m(\u001b[0m\u001b[0mname\u001b[0m\u001b[0;34m=\u001b[0m\u001b[0;34m'groupby'\u001b[0m\u001b[0;34m)\u001b[0m\u001b[0;34m\u001b[0m\u001b[0m\n",
      "\u001b[0;32m/Users/joannasyeow/anaconda/lib/python2.7/site-packages/pandas/core/groupby.pyc\u001b[0m in \u001b[0;36m_python_agg_general\u001b[0;34m(self, func, *args, **kwargs)\u001b[0m\n\u001b[1;32m    852\u001b[0m \u001b[0;34m\u001b[0m\u001b[0m\n\u001b[1;32m    853\u001b[0m         \u001b[0;32mif\u001b[0m \u001b[0mlen\u001b[0m\u001b[0;34m(\u001b[0m\u001b[0moutput\u001b[0m\u001b[0;34m)\u001b[0m \u001b[0;34m==\u001b[0m \u001b[0;36m0\u001b[0m\u001b[0;34m:\u001b[0m\u001b[0;34m\u001b[0m\u001b[0m\n\u001b[0;32m--> 854\u001b[0;31m             \u001b[0;32mreturn\u001b[0m \u001b[0mself\u001b[0m\u001b[0;34m.\u001b[0m\u001b[0m_python_apply_general\u001b[0m\u001b[0;34m(\u001b[0m\u001b[0mf\u001b[0m\u001b[0;34m)\u001b[0m\u001b[0;34m\u001b[0m\u001b[0m\n\u001b[0m\u001b[1;32m    855\u001b[0m \u001b[0;34m\u001b[0m\u001b[0m\n\u001b[1;32m    856\u001b[0m         \u001b[0;32mif\u001b[0m \u001b[0mself\u001b[0m\u001b[0;34m.\u001b[0m\u001b[0mgrouper\u001b[0m\u001b[0;34m.\u001b[0m\u001b[0m_filter_empty_groups\u001b[0m\u001b[0;34m:\u001b[0m\u001b[0;34m\u001b[0m\u001b[0m\n",
      "\u001b[0;32m/Users/joannasyeow/anaconda/lib/python2.7/site-packages/pandas/core/groupby.pyc\u001b[0m in \u001b[0;36m_python_apply_general\u001b[0;34m(self, f)\u001b[0m\n\u001b[1;32m    718\u001b[0m     \u001b[0;32mdef\u001b[0m \u001b[0m_python_apply_general\u001b[0m\u001b[0;34m(\u001b[0m\u001b[0mself\u001b[0m\u001b[0;34m,\u001b[0m \u001b[0mf\u001b[0m\u001b[0;34m)\u001b[0m\u001b[0;34m:\u001b[0m\u001b[0;34m\u001b[0m\u001b[0m\n\u001b[1;32m    719\u001b[0m         keys, values, mutated = self.grouper.apply(f, self._selected_obj,\n\u001b[0;32m--> 720\u001b[0;31m                                                    self.axis)\n\u001b[0m\u001b[1;32m    721\u001b[0m \u001b[0;34m\u001b[0m\u001b[0m\n\u001b[1;32m    722\u001b[0m         return self._wrap_applied_output(\n",
      "\u001b[0;32m/Users/joannasyeow/anaconda/lib/python2.7/site-packages/pandas/core/groupby.pyc\u001b[0m in \u001b[0;36mapply\u001b[0;34m(self, f, data, axis)\u001b[0m\n\u001b[1;32m   1776\u001b[0m     \u001b[0;32mdef\u001b[0m \u001b[0mapply\u001b[0m\u001b[0;34m(\u001b[0m\u001b[0mself\u001b[0m\u001b[0;34m,\u001b[0m \u001b[0mf\u001b[0m\u001b[0;34m,\u001b[0m \u001b[0mdata\u001b[0m\u001b[0;34m,\u001b[0m \u001b[0maxis\u001b[0m\u001b[0;34m=\u001b[0m\u001b[0;36m0\u001b[0m\u001b[0;34m)\u001b[0m\u001b[0;34m:\u001b[0m\u001b[0;34m\u001b[0m\u001b[0m\n\u001b[1;32m   1777\u001b[0m         \u001b[0mmutated\u001b[0m \u001b[0;34m=\u001b[0m \u001b[0mself\u001b[0m\u001b[0;34m.\u001b[0m\u001b[0mmutated\u001b[0m\u001b[0;34m\u001b[0m\u001b[0m\n\u001b[0;32m-> 1778\u001b[0;31m         \u001b[0msplitter\u001b[0m \u001b[0;34m=\u001b[0m \u001b[0mself\u001b[0m\u001b[0;34m.\u001b[0m\u001b[0m_get_splitter\u001b[0m\u001b[0;34m(\u001b[0m\u001b[0mdata\u001b[0m\u001b[0;34m,\u001b[0m \u001b[0maxis\u001b[0m\u001b[0;34m=\u001b[0m\u001b[0maxis\u001b[0m\u001b[0;34m)\u001b[0m\u001b[0;34m\u001b[0m\u001b[0m\n\u001b[0m\u001b[1;32m   1779\u001b[0m         \u001b[0mgroup_keys\u001b[0m \u001b[0;34m=\u001b[0m \u001b[0mself\u001b[0m\u001b[0;34m.\u001b[0m\u001b[0m_get_group_keys\u001b[0m\u001b[0;34m(\u001b[0m\u001b[0;34m)\u001b[0m\u001b[0;34m\u001b[0m\u001b[0m\n\u001b[1;32m   1780\u001b[0m \u001b[0;34m\u001b[0m\u001b[0m\n",
      "\u001b[0;32m/Users/joannasyeow/anaconda/lib/python2.7/site-packages/pandas/core/groupby.pyc\u001b[0m in \u001b[0;36m_get_splitter\u001b[0;34m(self, data, axis)\u001b[0m\n\u001b[1;32m   1759\u001b[0m \u001b[0;34m\u001b[0m\u001b[0m\n\u001b[1;32m   1760\u001b[0m     \u001b[0;32mdef\u001b[0m \u001b[0m_get_splitter\u001b[0m\u001b[0;34m(\u001b[0m\u001b[0mself\u001b[0m\u001b[0;34m,\u001b[0m \u001b[0mdata\u001b[0m\u001b[0;34m,\u001b[0m \u001b[0maxis\u001b[0m\u001b[0;34m=\u001b[0m\u001b[0;36m0\u001b[0m\u001b[0;34m)\u001b[0m\u001b[0;34m:\u001b[0m\u001b[0;34m\u001b[0m\u001b[0m\n\u001b[0;32m-> 1761\u001b[0;31m         \u001b[0mcomp_ids\u001b[0m\u001b[0;34m,\u001b[0m \u001b[0m_\u001b[0m\u001b[0;34m,\u001b[0m \u001b[0mngroups\u001b[0m \u001b[0;34m=\u001b[0m \u001b[0mself\u001b[0m\u001b[0;34m.\u001b[0m\u001b[0mgroup_info\u001b[0m\u001b[0;34m\u001b[0m\u001b[0m\n\u001b[0m\u001b[1;32m   1762\u001b[0m         \u001b[0;32mreturn\u001b[0m \u001b[0mget_splitter\u001b[0m\u001b[0;34m(\u001b[0m\u001b[0mdata\u001b[0m\u001b[0;34m,\u001b[0m \u001b[0mcomp_ids\u001b[0m\u001b[0;34m,\u001b[0m \u001b[0mngroups\u001b[0m\u001b[0;34m,\u001b[0m \u001b[0maxis\u001b[0m\u001b[0;34m=\u001b[0m\u001b[0maxis\u001b[0m\u001b[0;34m)\u001b[0m\u001b[0;34m\u001b[0m\u001b[0m\n\u001b[1;32m   1763\u001b[0m \u001b[0;34m\u001b[0m\u001b[0m\n",
      "\u001b[0;32mpandas/_libs/src/properties.pyx\u001b[0m in \u001b[0;36mpandas._libs.lib.cache_readonly.__get__ (pandas/_libs/lib.c:44594)\u001b[0;34m()\u001b[0m\n",
      "\u001b[0;32m/Users/joannasyeow/anaconda/lib/python2.7/site-packages/pandas/core/groupby.pyc\u001b[0m in \u001b[0;36mgroup_info\u001b[0;34m(self)\u001b[0m\n\u001b[1;32m   1871\u001b[0m     \u001b[0;34m@\u001b[0m\u001b[0mcache_readonly\u001b[0m\u001b[0;34m\u001b[0m\u001b[0m\n\u001b[1;32m   1872\u001b[0m     \u001b[0;32mdef\u001b[0m \u001b[0mgroup_info\u001b[0m\u001b[0;34m(\u001b[0m\u001b[0mself\u001b[0m\u001b[0;34m)\u001b[0m\u001b[0;34m:\u001b[0m\u001b[0;34m\u001b[0m\u001b[0m\n\u001b[0;32m-> 1873\u001b[0;31m         \u001b[0mcomp_ids\u001b[0m\u001b[0;34m,\u001b[0m \u001b[0mobs_group_ids\u001b[0m \u001b[0;34m=\u001b[0m \u001b[0mself\u001b[0m\u001b[0;34m.\u001b[0m\u001b[0m_get_compressed_labels\u001b[0m\u001b[0;34m(\u001b[0m\u001b[0;34m)\u001b[0m\u001b[0;34m\u001b[0m\u001b[0m\n\u001b[0m\u001b[1;32m   1874\u001b[0m \u001b[0;34m\u001b[0m\u001b[0m\n\u001b[1;32m   1875\u001b[0m         \u001b[0mngroups\u001b[0m \u001b[0;34m=\u001b[0m \u001b[0mlen\u001b[0m\u001b[0;34m(\u001b[0m\u001b[0mobs_group_ids\u001b[0m\u001b[0;34m)\u001b[0m\u001b[0;34m\u001b[0m\u001b[0m\n",
      "\u001b[0;32m/Users/joannasyeow/anaconda/lib/python2.7/site-packages/pandas/core/groupby.pyc\u001b[0m in \u001b[0;36m_get_compressed_labels\u001b[0;34m(self)\u001b[0m\n\u001b[1;32m   1878\u001b[0m \u001b[0;34m\u001b[0m\u001b[0m\n\u001b[1;32m   1879\u001b[0m     \u001b[0;32mdef\u001b[0m \u001b[0m_get_compressed_labels\u001b[0m\u001b[0;34m(\u001b[0m\u001b[0mself\u001b[0m\u001b[0;34m)\u001b[0m\u001b[0;34m:\u001b[0m\u001b[0;34m\u001b[0m\u001b[0m\n\u001b[0;32m-> 1880\u001b[0;31m         \u001b[0mall_labels\u001b[0m \u001b[0;34m=\u001b[0m \u001b[0;34m[\u001b[0m\u001b[0mping\u001b[0m\u001b[0;34m.\u001b[0m\u001b[0mlabels\u001b[0m \u001b[0;32mfor\u001b[0m \u001b[0mping\u001b[0m \u001b[0;32min\u001b[0m \u001b[0mself\u001b[0m\u001b[0;34m.\u001b[0m\u001b[0mgroupings\u001b[0m\u001b[0;34m]\u001b[0m\u001b[0;34m\u001b[0m\u001b[0m\n\u001b[0m\u001b[1;32m   1881\u001b[0m         \u001b[0;32mif\u001b[0m \u001b[0mlen\u001b[0m\u001b[0;34m(\u001b[0m\u001b[0mall_labels\u001b[0m\u001b[0;34m)\u001b[0m \u001b[0;34m>\u001b[0m \u001b[0;36m1\u001b[0m\u001b[0;34m:\u001b[0m\u001b[0;34m\u001b[0m\u001b[0m\n\u001b[1;32m   1882\u001b[0m             group_index = get_group_index(all_labels, self.shape,\n",
      "\u001b[0;32m/Users/joannasyeow/anaconda/lib/python2.7/site-packages/pandas/core/groupby.pyc\u001b[0m in \u001b[0;36mlabels\u001b[0;34m(self)\u001b[0m\n\u001b[1;32m   2531\u001b[0m     \u001b[0;32mdef\u001b[0m \u001b[0mlabels\u001b[0m\u001b[0;34m(\u001b[0m\u001b[0mself\u001b[0m\u001b[0;34m)\u001b[0m\u001b[0;34m:\u001b[0m\u001b[0;34m\u001b[0m\u001b[0m\n\u001b[1;32m   2532\u001b[0m         \u001b[0;32mif\u001b[0m \u001b[0mself\u001b[0m\u001b[0;34m.\u001b[0m\u001b[0m_labels\u001b[0m \u001b[0;32mis\u001b[0m \u001b[0mNone\u001b[0m\u001b[0;34m:\u001b[0m\u001b[0;34m\u001b[0m\u001b[0m\n\u001b[0;32m-> 2533\u001b[0;31m             \u001b[0mself\u001b[0m\u001b[0;34m.\u001b[0m\u001b[0m_make_labels\u001b[0m\u001b[0;34m(\u001b[0m\u001b[0;34m)\u001b[0m\u001b[0;34m\u001b[0m\u001b[0m\n\u001b[0m\u001b[1;32m   2534\u001b[0m         \u001b[0;32mreturn\u001b[0m \u001b[0mself\u001b[0m\u001b[0;34m.\u001b[0m\u001b[0m_labels\u001b[0m\u001b[0;34m\u001b[0m\u001b[0m\n\u001b[1;32m   2535\u001b[0m \u001b[0;34m\u001b[0m\u001b[0m\n",
      "\u001b[0;32m/Users/joannasyeow/anaconda/lib/python2.7/site-packages/pandas/core/groupby.pyc\u001b[0m in \u001b[0;36m_make_labels\u001b[0;34m(self)\u001b[0m\n\u001b[1;32m   2543\u001b[0m         \u001b[0;32mif\u001b[0m \u001b[0mself\u001b[0m\u001b[0;34m.\u001b[0m\u001b[0m_labels\u001b[0m \u001b[0;32mis\u001b[0m \u001b[0mNone\u001b[0m \u001b[0;32mor\u001b[0m \u001b[0mself\u001b[0m\u001b[0;34m.\u001b[0m\u001b[0m_group_index\u001b[0m \u001b[0;32mis\u001b[0m \u001b[0mNone\u001b[0m\u001b[0;34m:\u001b[0m\u001b[0;34m\u001b[0m\u001b[0m\n\u001b[1;32m   2544\u001b[0m             labels, uniques = algorithms.factorize(\n\u001b[0;32m-> 2545\u001b[0;31m                 self.grouper, sort=self.sort)\n\u001b[0m\u001b[1;32m   2546\u001b[0m             \u001b[0muniques\u001b[0m \u001b[0;34m=\u001b[0m \u001b[0mIndex\u001b[0m\u001b[0;34m(\u001b[0m\u001b[0muniques\u001b[0m\u001b[0;34m,\u001b[0m \u001b[0mname\u001b[0m\u001b[0;34m=\u001b[0m\u001b[0mself\u001b[0m\u001b[0;34m.\u001b[0m\u001b[0mname\u001b[0m\u001b[0;34m)\u001b[0m\u001b[0;34m\u001b[0m\u001b[0m\n\u001b[1;32m   2547\u001b[0m             \u001b[0mself\u001b[0m\u001b[0;34m.\u001b[0m\u001b[0m_labels\u001b[0m \u001b[0;34m=\u001b[0m \u001b[0mlabels\u001b[0m\u001b[0;34m\u001b[0m\u001b[0m\n",
      "\u001b[0;32m/Users/joannasyeow/anaconda/lib/python2.7/site-packages/pandas/core/algorithms.pyc\u001b[0m in \u001b[0;36mfactorize\u001b[0;34m(values, sort, order, na_sentinel, size_hint)\u001b[0m\n\u001b[1;32m    558\u001b[0m     \u001b[0muniques\u001b[0m \u001b[0;34m=\u001b[0m \u001b[0mvec_klass\u001b[0m\u001b[0;34m(\u001b[0m\u001b[0;34m)\u001b[0m\u001b[0;34m\u001b[0m\u001b[0m\n\u001b[1;32m    559\u001b[0m     \u001b[0mcheck_nulls\u001b[0m \u001b[0;34m=\u001b[0m \u001b[0;32mnot\u001b[0m \u001b[0mis_integer_dtype\u001b[0m\u001b[0;34m(\u001b[0m\u001b[0moriginal\u001b[0m\u001b[0;34m)\u001b[0m\u001b[0;34m\u001b[0m\u001b[0m\n\u001b[0;32m--> 560\u001b[0;31m     \u001b[0mlabels\u001b[0m \u001b[0;34m=\u001b[0m \u001b[0mtable\u001b[0m\u001b[0;34m.\u001b[0m\u001b[0mget_labels\u001b[0m\u001b[0;34m(\u001b[0m\u001b[0mvalues\u001b[0m\u001b[0;34m,\u001b[0m \u001b[0muniques\u001b[0m\u001b[0;34m,\u001b[0m \u001b[0;36m0\u001b[0m\u001b[0;34m,\u001b[0m \u001b[0mna_sentinel\u001b[0m\u001b[0;34m,\u001b[0m \u001b[0mcheck_nulls\u001b[0m\u001b[0;34m)\u001b[0m\u001b[0;34m\u001b[0m\u001b[0m\n\u001b[0m\u001b[1;32m    561\u001b[0m \u001b[0;34m\u001b[0m\u001b[0m\n\u001b[1;32m    562\u001b[0m     \u001b[0mlabels\u001b[0m \u001b[0;34m=\u001b[0m \u001b[0m_ensure_platform_int\u001b[0m\u001b[0;34m(\u001b[0m\u001b[0mlabels\u001b[0m\u001b[0;34m)\u001b[0m\u001b[0;34m\u001b[0m\u001b[0m\n",
      "\u001b[0;32mpandas/_libs/hashtable_class_helper.pxi\u001b[0m in \u001b[0;36mpandas._libs.hashtable.PyObjectHashTable.get_labels (pandas/_libs/hashtable.c:22034)\u001b[0;34m()\u001b[0m\n",
      "\u001b[0;32m/Users/joannasyeow/anaconda/lib/python2.7/site-packages/pandas/core/generic.pyc\u001b[0m in \u001b[0;36m__hash__\u001b[0;34m(self)\u001b[0m\n\u001b[1;32m    877\u001b[0m     \u001b[0;32mdef\u001b[0m \u001b[0m__hash__\u001b[0m\u001b[0;34m(\u001b[0m\u001b[0mself\u001b[0m\u001b[0;34m)\u001b[0m\u001b[0;34m:\u001b[0m\u001b[0;34m\u001b[0m\u001b[0m\n\u001b[1;32m    878\u001b[0m         raise TypeError('{0!r} objects are mutable, thus they cannot be'\n\u001b[0;32m--> 879\u001b[0;31m                         ' hashed'.format(self.__class__.__name__))\n\u001b[0m\u001b[1;32m    880\u001b[0m \u001b[0;34m\u001b[0m\u001b[0m\n\u001b[1;32m    881\u001b[0m     \u001b[0;32mdef\u001b[0m \u001b[0m__iter__\u001b[0m\u001b[0;34m(\u001b[0m\u001b[0mself\u001b[0m\u001b[0;34m)\u001b[0m\u001b[0;34m:\u001b[0m\u001b[0;34m\u001b[0m\u001b[0m\n",
      "\u001b[0;31mTypeError\u001b[0m: 'Series' objects are mutable, thus they cannot be hashed"
     ]
    }
   ],
   "source": [
    "# Obtain table of medians based on gender, age and icutype using groupby\n",
    "\n",
    "median_mortality = mortality.copy()\n",
    "\n",
    "median_mortality.reset_index(inplace=True)\n",
    "median_mortality.drop('recordid',axis=1,inplace=True)\n",
    "median_mortality.head()\n",
    "median_group = median_mortality.groupby(['gender','icutype','age']).median()  # Groupby median of gender, age & icutype"
   ]
  },
  {
   "cell_type": "code",
   "execution_count": 13,
   "metadata": {},
   "outputs": [
    {
     "ename": "KeyError",
     "evalue": "'Level icutype must be same as name (recordid)'",
     "output_type": "error",
     "traceback": [
      "\u001b[0;31m---------------------------------------------------------------------------\u001b[0m",
      "\u001b[0;31mKeyError\u001b[0m                                  Traceback (most recent call last)",
      "\u001b[0;32m<ipython-input-13-f52d344f22c8>\u001b[0m in \u001b[0;36m<module>\u001b[0;34m()\u001b[0m\n\u001b[1;32m      6\u001b[0m     \u001b[0;32mfor\u001b[0m \u001b[0mgender\u001b[0m \u001b[0;32min\u001b[0m \u001b[0;34m[\u001b[0m\u001b[0;36m0.0\u001b[0m\u001b[0;34m,\u001b[0m\u001b[0;36m1.0\u001b[0m\u001b[0;34m]\u001b[0m\u001b[0;34m:\u001b[0m\u001b[0;34m\u001b[0m\u001b[0m\n\u001b[1;32m      7\u001b[0m \u001b[0;34m\u001b[0m\u001b[0m\n\u001b[0;32m----> 8\u001b[0;31m         subset = median_group.loc[(median_group.index.get_level_values('icutype')==icutype) & \n\u001b[0m\u001b[1;32m      9\u001b[0m                  (median_group.index.get_level_values('gender')==gender)]\n\u001b[1;32m     10\u001b[0m         \u001b[0;32mtry\u001b[0m\u001b[0;34m:\u001b[0m\u001b[0;34m\u001b[0m\u001b[0m\n",
      "\u001b[0;32m/Users/joannasyeow/anaconda/lib/python2.7/site-packages/pandas/core/indexes/base.pyc\u001b[0m in \u001b[0;36m_get_level_values\u001b[0;34m(self, level)\u001b[0m\n\u001b[1;32m   2520\u001b[0m         \"\"\"\n\u001b[1;32m   2521\u001b[0m \u001b[0;34m\u001b[0m\u001b[0m\n\u001b[0;32m-> 2522\u001b[0;31m         \u001b[0mself\u001b[0m\u001b[0;34m.\u001b[0m\u001b[0m_validate_index_level\u001b[0m\u001b[0;34m(\u001b[0m\u001b[0mlevel\u001b[0m\u001b[0;34m)\u001b[0m\u001b[0;34m\u001b[0m\u001b[0m\n\u001b[0m\u001b[1;32m   2523\u001b[0m         \u001b[0;32mreturn\u001b[0m \u001b[0mself\u001b[0m\u001b[0;34m\u001b[0m\u001b[0m\n\u001b[1;32m   2524\u001b[0m \u001b[0;34m\u001b[0m\u001b[0m\n",
      "\u001b[0;32m/Users/joannasyeow/anaconda/lib/python2.7/site-packages/pandas/core/indexes/base.pyc\u001b[0m in \u001b[0;36m_validate_index_level\u001b[0;34m(self, level)\u001b[0m\n\u001b[1;32m   1558\u001b[0m         \u001b[0;32melif\u001b[0m \u001b[0mlevel\u001b[0m \u001b[0;34m!=\u001b[0m \u001b[0mself\u001b[0m\u001b[0;34m.\u001b[0m\u001b[0mname\u001b[0m\u001b[0;34m:\u001b[0m\u001b[0;34m\u001b[0m\u001b[0m\n\u001b[1;32m   1559\u001b[0m             raise KeyError('Level %s must be same as name (%s)' %\n\u001b[0;32m-> 1560\u001b[0;31m                            (level, self.name))\n\u001b[0m\u001b[1;32m   1561\u001b[0m \u001b[0;34m\u001b[0m\u001b[0m\n\u001b[1;32m   1562\u001b[0m     \u001b[0;32mdef\u001b[0m \u001b[0m_get_level_number\u001b[0m\u001b[0;34m(\u001b[0m\u001b[0mself\u001b[0m\u001b[0;34m,\u001b[0m \u001b[0mlevel\u001b[0m\u001b[0;34m)\u001b[0m\u001b[0;34m:\u001b[0m\u001b[0;34m\u001b[0m\u001b[0m\n",
      "\u001b[0;31mKeyError\u001b[0m: 'Level icutype must be same as name (recordid)'"
     ]
    }
   ],
   "source": [
    "# backfill NaN median values or frontfill NaN median values\n",
    "\n",
    "filled_median = pd.DataFrame()\n",
    "\n",
    "for icutype in [1.0,2.0,3.0,4.0]:\n",
    "    for gender in [0.0,1.0]:\n",
    "        \n",
    "        subset = median_group.loc[(median_group.index.get_level_values('icutype')==icutype) & \n",
    "                 (median_group.index.get_level_values('gender')==gender)]\n",
    "        try:\n",
    "            subset_filled = subset.fillna(method='bfill')\n",
    "        except:\n",
    "            subset_filled = subset.fillna(method='ffill')\n",
    "            \n",
    "        filled_median = filled_median.append(subset_filled)"
   ]
  },
  {
   "cell_type": "code",
   "execution_count": null,
   "metadata": {},
   "outputs": [],
   "source": [
    "filled_median"
   ]
  },
  {
   "cell_type": "code",
   "execution_count": null,
   "metadata": {},
   "outputs": [],
   "source": [
    "float(filled_median.loc[(filled_median.index.get_level_values('age')==20.0) & \n",
    "                 (filled_median.index.get_level_values('gender')==0.0) &\n",
    "                      (filled_median.index.get_level_values('icutype')==2.0)]['first_bun'].get_values())"
   ]
  },
  {
   "cell_type": "code",
   "execution_count": null,
   "metadata": {},
   "outputs": [],
   "source": [
    "mortality.head()"
   ]
  },
  {
   "cell_type": "code",
   "execution_count": null,
   "metadata": {},
   "outputs": [],
   "source": [
    "filled_median.loc[(filled_median.index.get_level_values('age')==39.0) & (filled_median.index.get_level_values('gender')==0.0) & (filled_median.index.get_level_values('icutype')==4.0)]#['first_k'].get_values()"
   ]
  },
  {
   "cell_type": "code",
   "execution_count": null,
   "metadata": {},
   "outputs": [],
   "source": [
    "mask = ['age','gender','icutype']\n",
    "fill_col = mortality.columns[~mortality.columns.isin(mask)]\n",
    "\n",
    "new_rows = []\n",
    "\n",
    "for ind, row in mortality.iterrows():\n",
    "    \n",
    "    age = row['age']\n",
    "    gender = row['gender']\n",
    "    icutype = row['icutype']\n",
    "    \n",
    "    median_row = filled_median.loc[(filled_median.index.get_level_values('age')==age)&\\\n",
    "                                    (filled_median.index.get_level_values('icutype')==icutype)&\\\n",
    "                                (filled_median.index.get_level_values('gender')==gender)]\n",
    "    \n",
    "    new_row = []\n",
    "    \n",
    "    for col in fill_col:\n",
    "        \n",
    "        new_val = median_row[col].get_values()\n",
    "        \n",
    "        if np.isnan(row[col]):\n",
    "            \n",
    "             new_row.append(new_val)\n",
    "        \n",
    "        else:\n",
    "            new_row.append(row[col])\n",
    "    \n",
    "    new_rows.append(new_row)\n",
    "\n",
    "mortality_filled = pd.DataFrame(data=new_rows,columns = mortality[fill_col].columns,index=mortality[fill_col].index)\n"
   ]
  },
  {
   "cell_type": "code",
   "execution_count": null,
   "metadata": {},
   "outputs": [],
   "source": [
    "mortality_filled = pd.concat((mortality.loc[:,['age','gender','icutype']],mortality_filled))"
   ]
  },
  {
   "cell_type": "code",
   "execution_count": null,
   "metadata": {
    "collapsed": true
   },
   "outputs": [],
   "source": []
  }
 ],
 "metadata": {
  "kernelspec": {
   "display_name": "Python 2",
   "language": "python",
   "name": "python2"
  },
  "language_info": {
   "codemirror_mode": {
    "name": "ipython",
    "version": 2
   },
   "file_extension": ".py",
   "mimetype": "text/x-python",
   "name": "python",
   "nbconvert_exporter": "python",
   "pygments_lexer": "ipython2",
   "version": "2.7.13"
  }
 },
 "nbformat": 4,
 "nbformat_minor": 2
}
