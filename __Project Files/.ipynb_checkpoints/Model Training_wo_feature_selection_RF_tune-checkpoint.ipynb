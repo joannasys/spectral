{
 "cells": [
  {
   "cell_type": "markdown",
   "metadata": {},
   "source": [
    "<div style=\"width:900px;background:#F9EECF;border:1px solid black;text-align:left;padding:20px;\">\n",
    "<span style=\"color:purple;font-size:13pt\"><b>Data Dictionary</span></b>\n",
    "</div>\n",
    "\n",
    "<div style=\"width:900px;float:left;padding:20px;align:left;\">\n",
    "Descriptors:\n",
    "<br><br>\n",
    "<style type=\"text/css\">\n",
    ".tg  {border-collapse:collapse;border-spacing:0;}\n",
    ".tg td{font-family:Arial, sans-serif;font-size:14px;padding:10px 5px;border-style:solid;border-width:1px;overflow:hidden;word-break:normal;}\n",
    ".tg th{font-family:Arial, sans-serif;font-size:14px;font-weight:normal;padding:10px 5px;border-style:solid;border-width:1px;overflow:hidden;word-break:normal;}\n",
    ".tg .tg-2lp6{font-weight:bold;background-color:#bbdaff;vertical-align:top}\n",
    ".tg .tg-amwm{font-weight:bold;text-align:center;vertical-align:top}\n",
    ".tg .tg-36xf{font-weight:bold;background-color:#bbdaff}\n",
    ".tg .tg-yw4l{vertical-align:top}\n",
    ".tg .tg-yw42{vertical-align:top;color:blue}\n",
    "</style>\n",
    "<table class=\"tg\">\n",
    "\n",
    "  <tr>\n",
    "    <th class=\"tg-36xf\">Feature Name</th>\n",
    "    <th class=\"tg-2lp6\">Description</th>\n",
    "    <th class=\"tg-2lp6\">Metrics</th>\n",
    "  </tr>\n",
    "          \n",
    "<tr>\n",
    "    <td class=\"tg-yw4l\">RecordID</td>\n",
    "    <td class=\"tg-yw4l\">A unique integer for each ICU stay </td>\n",
    "    <td class=\"tg-yw4l\">Integer</td>\n",
    "</tr>\n",
    "<tr>\n",
    "    <td class=\"tg-yw4l\">Age</td>\n",
    "    <td class=\"tg-yw4l\">Age</td>\n",
    "    <td class=\"tg-yw4l\">(years)</td>\n",
    "</tr>\n",
    "\n",
    "<tr>\n",
    "    <td class=\"tg-yw4l\">Height</td>\n",
    "    <td class=\"tg-yw4l\">Height</td>\n",
    "    <td class=\"tg-yw4l\">(cm)</td>\n",
    "</tr>\n",
    "\n",
    "<tr>\n",
    "    <td class=\"tg-yw4l\">ICUtype</td>\n",
    "    <td class=\"tg-yw4l\">ICU Type</td>\n",
    "    <td class=\"tg-yw4l\">(1: Coronary Care Unit, 2: Cardiac Surgery Recovery Unit, <br>3: Medical ICU, or 4: Surgical ICU)</td>\n",
    "</tr>\n",
    "\n",
    "<tr>\n",
    "    <td class=\"tg-yw4l\">Gender</td>\n",
    "    <td class=\"tg-yw4l\">Gender</td>\n",
    "    <td class=\"tg-yw4l\">(0: female, or 1: male)</td>\n",
    "</tr>\n",
    "\n",
    "</table>\n",
    "<br><br>\n",
    "These 37 variables may be observed once, more than once, or not at all in some cases:\n",
    "<br><br>\n",
    "\n",
    "<table class=\"tg\">\n",
    "<tr>\n",
    "    <th class=\"tg-36xf\">Feature Name</th>\n",
    "    <th class=\"tg-2lp6\">Description</th>\n",
    "    <th class=\"tg-2lp6\">Metrics</th>\n",
    "</tr>\n",
    "          \n",
    "<tr>\n",
    "    <td class=\"tg-yw4l\">Albumin</td>\n",
    "    <td class=\"tg-yw4l\">Albumin </td>\n",
    "    <td class=\"tg-yw4l\">(g/dL)</td>\n",
    "</tr>\n",
    "<tr>\n",
    "    <td class=\"tg-yw4l\">ALP</td>\n",
    "    <td class=\"tg-yw4l\">Alkaline phosphatase</td>\n",
    "    <td class=\"tg-yw4l\">(IU/L)</td>\n",
    "</tr>\n",
    "<tr>\n",
    "<td class=\"tg-yw4l\">ALT</td>\n",
    "<td class=\"tg-yw4l\">Alanine transaminase</td> \n",
    "<td class=\"tg-yw4l\">(IU/L)</td>\n",
    "</tr>\n",
    "<tr>\n",
    "<td class=\"tg-yw4l\">AST</td>\n",
    "<td class=\"tg-yw4l\">Aspartate transaminase</td>\n",
    "<td class=\"tg-yw4l\">(IU/L)</td>\n",
    "</tr>\n",
    "<tr>\n",
    "<td class=\"tg-yw4l\">Bilirubin</td>\n",
    "<td class=\"tg-yw4l\">Bilirubin</td>\n",
    "<td class=\"tg-yw4l\">(mg/dL)</td>\n",
    "</tr>\n",
    "<tr>\n",
    "<td class=\"tg-yw4l\">BUN</td>\n",
    "<td class=\"tg-yw4l\">Blood urea nitrogen</td>\n",
    "<td class=\"tg-yw4l\">(mg/dL)</td>\n",
    "</tr>\n",
    "<tr>\n",
    "<td class=\"tg-yw4l\">Cholesterol</td>\n",
    "<td class=\"tg-yw4l\">Cholesterol</td>\n",
    "<td class=\"tg-yw4l\">(mg/dL)</td>\n",
    "</tr>\n",
    "<tr>\n",
    "<td class=\"tg-yw4l\">Creatinine</td>\n",
    "<td class=\"tg-yw4l\">Serum creatinine</td>\n",
    "<td class=\"tg-yw4l\">(mg/dL)</td>\n",
    "</tr>\n",
    "\n",
    "<tr>\n",
    "<td class=\"tg-yw4l\">DiasABP <td class=\"tg-yw4l\">Invasive diastolic arterial blood pressure <td class=\"tg-yw4l\">(mmHg)</tr>\n",
    "\n",
    "<tr><td class=\"tg-yw4l\">FiO2 <td class=\"tg-yw4l\">Fractional inspired O2 <td class=\"tg-yw4l\">(0-1)</tr>\n",
    "<tr><td class=\"tg-yw4l\">GCS <td class=\"tg-yw4l\">Glasgow Coma Score <td class=\"tg-yw4l\">(3-15)</tr>\n",
    "<tr><td class=\"tg-yw4l\">Glucose <td class=\"tg-yw4l\">Serum glucose <td class=\"tg-yw4l\">(mg/dL)</tr>\n",
    "<tr><td class=\"tg-yw4l\">HCO3 <td class=\"tg-yw4l\">Serum bicarbonate <td class=\"tg-yw4l\">(mmol/L)</tr>\n",
    "<tr><td class=\"tg-yw4l\">HCT <td class=\"tg-yw4l\">Hematocrit <td class=\"tg-yw4l\">(%)</tr>\n",
    "<tr><td class=\"tg-yw4l\">HR <td class=\"tg-yw4l\">Heart rate <td class=\"tg-yw4l\">(bpm)</tr>\n",
    "<tr><td class=\"tg-yw4l\">K <td class=\"tg-yw4l\">Serum potassium <td class=\"tg-yw4l\">(mEq/L)</tr>\n",
    "<tr><td class=\"tg-yw4l\">Lactate <td class=\"tg-yw4l\">Lactate<td class=\"tg-yw4l\">(mmol/L)</tr>\n",
    "<tr><td class=\"tg-yw4l\">Mg <td class=\"tg-yw4l\">Serum magnesium <td class=\"tg-yw4l\">(mmol/L)</tr>\n",
    "<tr><td class=\"tg-yw4l\">MAP <td class=\"tg-yw4l\">Invasive mean arterial blood pressure <td class=\"tg-yw4l\">(mmHg)</tr>\n",
    "<tr><td class=\"tg-yw4l\">MechVent <td class=\"tg-yw4l\">Mechanical ventilation respiration <td class=\"tg-yw4l\">(0:false, or 1:true)</tr>\n",
    "<tr><td class=\"tg-yw4l\">Na <td class=\"tg-yw4l\">Serum sodium <td class=\"tg-yw4l\">(mEq/L)</tr>\n",
    "<tr><td class=\"tg-yw4l\">NIDiasABP <td class=\"tg-yw4l\">Non-invasive diastolic arterial blood pressure <td class=\"tg-yw4l\">(mmHg)</tr>\n",
    "<tr><td class=\"tg-yw4l\">NIMAP <td class=\"tg-yw4l\">Non-invasive mean arterial blood pressure <td class=\"tg-yw4l\">(mmHg)</tr>\n",
    "<tr><td class=\"tg-yw4l\">NISysABP <td class=\"tg-yw4l\">Non-invasive systolic arterial blood pressure <td class=\"tg-yw4l\">(mmHg)</tr>\n",
    "<tr><td class=\"tg-yw4l\">PaCO2 <td class=\"tg-yw4l\">partial pressure of arterial CO2 <td class=\"tg-yw4l\">(mmHg)</tr>\n",
    "<tr><td class=\"tg-yw4l\">PaO2 <td class=\"tg-yw4l\">Partial pressure of arterial O2 <td class=\"tg-yw4l\">(mmHg)</tr>\n",
    "<tr><td class=\"tg-yw4l\">pH <td class=\"tg-yw4l\">Arterial pH <td class=\"tg-yw4l\">(0-14)</tr>\n",
    "<tr><td class=\"tg-yw4l\">Platelets <td class=\"tg-yw4l\">Platelets<td class=\"tg-yw4l\">(cells/nL)</tr>\n",
    "<tr><td class=\"tg-yw4l\">RespRate <td class=\"tg-yw4l\">Respiration rate <td class=\"tg-yw4l\">(bpm)</tr>\n",
    "<tr><td class=\"tg-yw4l\">SaO2 <td class=\"tg-yw4l\">O2 saturation in hemoglobin <td class=\"tg-yw4l\">(%)</tr>\n",
    "<tr><td class=\"tg-yw4l\">SysABP <td class=\"tg-yw4l\">Invasive systolic arterial blood pressure <td class=\"tg-yw4l\">(mmHg)</tr>\n",
    "<tr><td class=\"tg-yw4l\">Temp <td class=\"tg-yw4l\">Temperature <td class=\"tg-yw4l\">(°C)</tr>\n",
    "<tr><td class=\"tg-yw4l\">TropI <td class=\"tg-yw4l\">Troponin-I <td class=\"tg-yw4l\">(μg/L)</tr>\n",
    "<tr><td class=\"tg-yw4l\">TropT <td class=\"tg-yw4l\">Troponin-T <td class=\"tg-yw4l\">(μg/L)</tr>\n",
    "<tr><td class=\"tg-yw4l\">Urine <td class=\"tg-yw4l\">Urine output <td class=\"tg-yw4l\">(mL)</tr>\n",
    "<tr><td class=\"tg-yw4l\">WBC <td class=\"tg-yw4l\">White blood cell count <td class=\"tg-yw4l\">(cells/nL)</tr>\n",
    "<tr><td class=\"tg-yw4l\">Weight <td class=\"tg-yw4l\">Weight<td class=\"tg-yw4l\">(kg)</tr></table>\n",
    "\n",
    "<br><br>\n",
    "Outcomes-Related Descriptors:\n",
    "\n",
    "<table class=\"tg\">\n",
    "<tr>\n",
    "    <th class=\"tg-36xf\">Outcomes</th>\n",
    "    <th class=\"tg-2lp6\">Description</th>\n",
    "    <th class=\"tg-2lp6\">Metrics</th>\n",
    "</tr>\n",
    "          \n",
    "<tr>\n",
    "    <td class=\"tg-yw4l\">SAPS-I score</td>\n",
    "    <td class=\"tg-yw4l\">(Le Gall et al., 1984) </td>\n",
    "    <td class=\"tg-yw4l\">between 0 to 163</td>\n",
    "</tr>\n",
    "  \n",
    "<tr>\n",
    "    <td class=\"tg-yw4l\">SOFA score</td>\n",
    "    <td class=\"tg-yw4l\">(Ferreira et al., 2001) </td>\n",
    "    <td class=\"tg-yw4l\">between 0 to 4</td>\n",
    "</tr>\n",
    "  \n",
    "<tr>\n",
    "    <td class=\"tg-yw4l\">Length of stay</td>\n",
    "    <td class=\"tg-yw4l\">Length of stay </td>\n",
    "    <td class=\"tg-yw4l\">(days)</td>\n",
    "</tr>\n",
    "\n",
    "<tr>\n",
    "    <td class=\"tg-yw4l\">Survival</td>\n",
    "    <td class=\"tg-yw4l\">Survival</td>\n",
    "    <td class=\"tg-yw4l\">(days)</td>\n",
    "</tr>\n",
    "\n",
    "<tr>\n",
    "    <td class=\"tg-yw42\"><b>In-hospital death</b></td>\n",
    "    <td class=\"tg-yw42\"><b>Target Variable</b></td>\n",
    "    <td class=\"tg-yw42\"><b>(0: survivor, or 1: died in-hospital)</b></td>\n",
    "</tr>\n",
    " "
   ]
  },
  {
   "cell_type": "markdown",
   "metadata": {},
   "source": [
    "<div style=\"width:900px;background:#F9EECF;border:1px solid black;text-align:left;padding:20px;\">\n",
    "\n",
    "<span style=\"color:purple;font-size:13pt\"><b>Import Packages</span></b>\n",
    "\n",
    "</div>"
   ]
  },
  {
   "cell_type": "code",
   "execution_count": 12,
   "metadata": {
    "collapsed": true
   },
   "outputs": [],
   "source": [
    "# Import packages\n",
    "\n",
    "import pandas as pd\n",
    "import numpy as np\n",
    "\n",
    "\n",
    "import seaborn as sns\n",
    "\n",
    "from sklearn.preprocessing import RobustScaler, OneHotEncoder\n",
    "from sklearn.pipeline import FeatureUnion\n",
    "from sklearn.base import BaseEstimator, TransformerMixin\n",
    "\n",
    "from sklearn.model_selection import GridSearchCV\n",
    "\n",
    "from statsmodels.stats.outliers_influence import variance_inflation_factor\n",
    "\n",
    "pd.set_option('display.max_columns', 200)\n",
    "pd.set_option('display.max_rows',200)\n",
    "\n",
    "\n",
    "sns.set_style('whitegrid')\n",
    "sns.set(rc={\"figure.figsize\": (15, 8)})\n",
    "\n",
    "%config InlineBackend.figure_format = 'retina'\n",
    "%matplotlib inline"
   ]
  },
  {
   "cell_type": "code",
   "execution_count": 13,
   "metadata": {
    "collapsed": true
   },
   "outputs": [],
   "source": [
    "# Simple cleaning on csv file\n",
    "\n",
    "X = pd.read_csv('mortality_filled_median.csv')\n",
    "X.set_index('recordid',inplace=True)"
   ]
  },
  {
   "cell_type": "code",
   "execution_count": 14,
   "metadata": {},
   "outputs": [
    {
     "data": {
      "text/plain": [
       "Index([u'Unnamed: 0', u'first_bun', u'first_creatinine', u'first_gcs',\n",
       "       u'first_glucose', u'first_hco3', u'first_hct', u'first_hr', u'first_k',\n",
       "       u'first_mg',\n",
       "       ...\n",
       "       u'min_ph', u'min_platelets', u'min_temp', u'min_urine', u'min_wbc',\n",
       "       u'min_weight', u'in-hospital_death', u'age', u'gender', u'icutype'],\n",
       "      dtype='object', length=110)"
      ]
     },
     "execution_count": 14,
     "metadata": {},
     "output_type": "execute_result"
    }
   ],
   "source": [
    "X.columns"
   ]
  },
  {
   "cell_type": "code",
   "execution_count": 15,
   "metadata": {
    "collapsed": true
   },
   "outputs": [],
   "source": [
    "X.drop('Unnamed: 0',axis=1,inplace=True)"
   ]
  },
  {
   "cell_type": "code",
   "execution_count": 16,
   "metadata": {
    "collapsed": true
   },
   "outputs": [],
   "source": [
    "y = X['in-hospital_death']"
   ]
  },
  {
   "cell_type": "code",
   "execution_count": 17,
   "metadata": {},
   "outputs": [],
   "source": [
    "X = X.drop('in-hospital_death',axis=1)   # identify predictors "
   ]
  },
  {
   "cell_type": "code",
   "execution_count": 18,
   "metadata": {
    "collapsed": true
   },
   "outputs": [],
   "source": [
    "# Train test split\n",
    "\n",
    "from sklearn.model_selection import train_test_split\n",
    "\n",
    "X_train, X_test, y_train, y_test = train_test_split(X, y, test_size=0.33, random_state=2,stratify=y)"
   ]
  },
  {
   "cell_type": "code",
   "execution_count": 19,
   "metadata": {
    "collapsed": true
   },
   "outputs": [],
   "source": [
    "# Using SMOTEEN + Weighted Logistic Loss\n",
    "\n",
    "from imblearn.combine import SMOTEENN\n",
    "from imblearn.over_sampling import SMOTE\n",
    "\n",
    "smoteenn = SMOTEENN(random_state=2,smote=SMOTE(ratio={1:1100},random_state=2))\n",
    "\n",
    "X_train_res, y_train_res = smoteenn.fit_sample(X_train, y_train)"
   ]
  },
  {
   "cell_type": "code",
   "execution_count": 20,
   "metadata": {},
   "outputs": [
    {
     "data": {
      "text/plain": [
       "0.3854359925788497"
      ]
     },
     "execution_count": 20,
     "metadata": {},
     "output_type": "execute_result"
    }
   ],
   "source": [
    "y_train_res.sum()/ len(y_train_res)  # Percentage of samples in the minority class "
   ]
  },
  {
   "cell_type": "markdown",
   "metadata": {},
   "source": [
    "<div style=\"width:900px;background:#F9EECF;border:1px solid black;text-align:left;padding:20px;\">\n",
    "\n",
    "<p><b>SMOTEENN + Weighted Logistic Loss</b>\n",
    "<br> Random Forest\n",
    "</div>"
   ]
  },
  {
   "cell_type": "code",
   "execution_count": 29,
   "metadata": {},
   "outputs": [
    {
     "name": "stdout",
     "output_type": "stream",
     "text": [
      "Fitting 5 folds for each of 360 candidates, totalling 1800 fits\n"
     ]
    },
    {
     "name": "stderr",
     "output_type": "stream",
     "text": [
      "[Parallel(n_jobs=-1)]: Done  42 tasks      | elapsed:   51.1s\n",
      "[Parallel(n_jobs=-1)]: Done 192 tasks      | elapsed:  2.5min\n",
      "[Parallel(n_jobs=-1)]: Done 442 tasks      | elapsed:  2.9min\n",
      "[Parallel(n_jobs=-1)]: Done 792 tasks      | elapsed:  3.7min\n",
      "[Parallel(n_jobs=-1)]: Done 1242 tasks      | elapsed:  4.4min\n",
      "[Parallel(n_jobs=-1)]: Done 1792 tasks      | elapsed:  5.6min\n",
      "[Parallel(n_jobs=-1)]: Done 1800 out of 1800 | elapsed:  5.6min finished\n"
     ]
    },
    {
     "data": {
      "text/plain": [
       "GridSearchCV(cv=5, error_score='raise',\n",
       "       estimator=RandomForestClassifier(bootstrap=True, class_weight='balanced',\n",
       "            criterion='gini', max_depth=None, max_features='auto',\n",
       "            max_leaf_nodes=None, min_impurity_decrease=0.0,\n",
       "            min_impurity_split=None, min_samples_leaf=1,\n",
       "            min_samples_split=2, min_weight_fraction_leaf=0.0,\n",
       "            n_estimators=10, n_jobs=1, oob_score=False, random_state=6,\n",
       "            verbose=0, warm_start=False),\n",
       "       fit_params=None, iid=True, n_jobs=-1,\n",
       "       param_grid={'n_estimators': [20, 25, 30, 35, 40, 45], 'max_features': [None, 'log2', 'sqrt', 2, 3], 'min_samples_split': [2, 3, 4, 5], 'max_depth': [None, 2, 4]},\n",
       "       pre_dispatch='2*n_jobs', refit=True, return_train_score=True,\n",
       "       scoring=None, verbose=1)"
      ]
     },
     "execution_count": 29,
     "metadata": {},
     "output_type": "execute_result"
    }
   ],
   "source": [
    "from sklearn.ensemble import RandomForestClassifier\n",
    "\n",
    "rfc_params = {\n",
    "    'n_estimators':[20,25,30,35,40,45],\n",
    "    'max_depth':[None,2,4],\n",
    "    'max_features':[None,'log2','sqrt',2,3],\n",
    "    'min_samples_split':[2,3,4,5]\n",
    "}\n",
    "\n",
    "\n",
    "rfc_gs = GridSearchCV(RandomForestClassifier(random_state=6,class_weight='balanced'), \\\n",
    "                      rfc_params, cv=5, verbose=1,n_jobs=-1)\n",
    "rfc_gs.fit(X_train_res, y_train_res)"
   ]
  },
  {
   "cell_type": "code",
   "execution_count": 30,
   "metadata": {},
   "outputs": [
    {
     "name": "stdout",
     "output_type": "stream",
     "text": [
      "{'max_features': 2, 'min_samples_split': 4, 'n_estimators': 45, 'max_depth': None}\n",
      "0.915120593692\n"
     ]
    }
   ],
   "source": [
    "rfc_best = rfc_gs.best_estimator_\n",
    "print rfc_gs.best_params_\n",
    "print rfc_gs.best_score_"
   ]
  },
  {
   "cell_type": "code",
   "execution_count": 31,
   "metadata": {},
   "outputs": [
    {
     "name": "stdout",
     "output_type": "stream",
     "text": [
      "             precision    recall  f1-score   support\n",
      "\n",
      "        0.0       0.91      0.91      0.91      1127\n",
      "        1.0       0.43      0.45      0.44       182\n",
      "\n",
      "avg / total       0.84      0.84      0.84      1309\n",
      "\n"
     ]
    }
   ],
   "source": [
    "from sklearn.metrics import classification_report\n",
    "\n",
    "y_pred = rfc_best.predict(X_test)\n",
    "print classification_report(y_test,y_pred)"
   ]
  },
  {
   "cell_type": "code",
   "execution_count": 32,
   "metadata": {},
   "outputs": [
    {
     "name": "stdout",
     "output_type": "stream",
     "text": [
      "             precision    recall  f1-score   support\n",
      "\n",
      "        0.0       0.92      0.91      0.91      1127\n",
      "        1.0       0.45      0.48      0.47       182\n",
      "\n",
      "avg / total       0.85      0.85      0.85      1309\n",
      "\n"
     ]
    }
   ],
   "source": [
    "\n",
    "rfc = RandomForestClassifier(random_state=6,class_weight='balanced',max_features = 3, min_samples_split= 3, \n",
    "                                 n_estimators= 20, max_depth= None)\n",
    "\n",
    "rfc.fit(X_train_res, y_train_res)\n",
    "    \n",
    "y_pred = rfc.predict(X_test)\n",
    "\n",
    "print classification_report(y_test,y_pred)"
   ]
  },
  {
   "cell_type": "code",
   "execution_count": null,
   "metadata": {
    "collapsed": true
   },
   "outputs": [],
   "source": []
  }
 ],
 "metadata": {
  "kernelspec": {
   "display_name": "Python 2",
   "language": "python",
   "name": "python2"
  },
  "language_info": {
   "codemirror_mode": {
    "name": "ipython",
    "version": 2
   },
   "file_extension": ".py",
   "mimetype": "text/x-python",
   "name": "python",
   "nbconvert_exporter": "python",
   "pygments_lexer": "ipython2",
   "version": "2.7.13"
  }
 },
 "nbformat": 4,
 "nbformat_minor": 2
}
