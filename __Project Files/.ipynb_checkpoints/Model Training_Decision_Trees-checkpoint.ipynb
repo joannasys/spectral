{
 "cells": [
  {
   "cell_type": "markdown",
   "metadata": {},
   "source": [
    "<div style=\"width:900px;background:#F9EECF;border:1px solid black;text-align:left;padding:20px;\">\n",
    "<span style=\"color:purple;font-size:13pt\"><b>Data Dictionary</span></b>\n",
    "</div>\n",
    "\n",
    "<div style=\"width:900px;float:left;padding:20px;align:left;\">\n",
    "Descriptors:\n",
    "<br><br>\n",
    "<style type=\"text/css\">\n",
    ".tg  {border-collapse:collapse;border-spacing:0;}\n",
    ".tg td{font-family:Arial, sans-serif;font-size:14px;padding:10px 5px;border-style:solid;border-width:1px;overflow:hidden;word-break:normal;}\n",
    ".tg th{font-family:Arial, sans-serif;font-size:14px;font-weight:normal;padding:10px 5px;border-style:solid;border-width:1px;overflow:hidden;word-break:normal;}\n",
    ".tg .tg-2lp6{font-weight:bold;background-color:#bbdaff;vertical-align:top}\n",
    ".tg .tg-amwm{font-weight:bold;text-align:center;vertical-align:top}\n",
    ".tg .tg-36xf{font-weight:bold;background-color:#bbdaff}\n",
    ".tg .tg-yw4l{vertical-align:top}\n",
    ".tg .tg-yw42{vertical-align:top;color:blue}\n",
    "</style>\n",
    "<table class=\"tg\">\n",
    "\n",
    "  <tr>\n",
    "    <th class=\"tg-36xf\">Feature Name</th>\n",
    "    <th class=\"tg-2lp6\">Description</th>\n",
    "    <th class=\"tg-2lp6\">Metrics</th>\n",
    "  </tr>\n",
    "          \n",
    "<tr>\n",
    "    <td class=\"tg-yw4l\">RecordID</td>\n",
    "    <td class=\"tg-yw4l\">A unique integer for each ICU stay </td>\n",
    "    <td class=\"tg-yw4l\">Integer</td>\n",
    "</tr>\n",
    "<tr>\n",
    "    <td class=\"tg-yw4l\">Age</td>\n",
    "    <td class=\"tg-yw4l\">Age</td>\n",
    "    <td class=\"tg-yw4l\">(years)</td>\n",
    "</tr>\n",
    "\n",
    "<tr>\n",
    "    <td class=\"tg-yw4l\">Height</td>\n",
    "    <td class=\"tg-yw4l\">Height</td>\n",
    "    <td class=\"tg-yw4l\">(cm)</td>\n",
    "</tr>\n",
    "\n",
    "<tr>\n",
    "    <td class=\"tg-yw4l\">ICUtype</td>\n",
    "    <td class=\"tg-yw4l\">ICU Type</td>\n",
    "    <td class=\"tg-yw4l\">(1: Coronary Care Unit, 2: Cardiac Surgery Recovery Unit, <br>3: Medical ICU, or 4: Surgical ICU)</td>\n",
    "</tr>\n",
    "\n",
    "<tr>\n",
    "    <td class=\"tg-yw4l\">Gender</td>\n",
    "    <td class=\"tg-yw4l\">Gender</td>\n",
    "    <td class=\"tg-yw4l\">(0: female, or 1: male)</td>\n",
    "</tr>\n",
    "\n",
    "</table>\n",
    "<br><br>\n",
    "These 37 variables may be observed once, more than once, or not at all in some cases:\n",
    "<br><br>\n",
    "\n",
    "<table class=\"tg\">\n",
    "<tr>\n",
    "    <th class=\"tg-36xf\">Feature Name</th>\n",
    "    <th class=\"tg-2lp6\">Description</th>\n",
    "    <th class=\"tg-2lp6\">Metrics</th>\n",
    "</tr>\n",
    "          \n",
    "<tr>\n",
    "    <td class=\"tg-yw4l\">Albumin</td>\n",
    "    <td class=\"tg-yw4l\">Albumin </td>\n",
    "    <td class=\"tg-yw4l\">(g/dL)</td>\n",
    "</tr>\n",
    "<tr>\n",
    "    <td class=\"tg-yw4l\">ALP</td>\n",
    "    <td class=\"tg-yw4l\">Alkaline phosphatase</td>\n",
    "    <td class=\"tg-yw4l\">(IU/L)</td>\n",
    "</tr>\n",
    "<tr>\n",
    "<td class=\"tg-yw4l\">ALT</td>\n",
    "<td class=\"tg-yw4l\">Alanine transaminase</td> \n",
    "<td class=\"tg-yw4l\">(IU/L)</td>\n",
    "</tr>\n",
    "<tr>\n",
    "<td class=\"tg-yw4l\">AST</td>\n",
    "<td class=\"tg-yw4l\">Aspartate transaminase</td>\n",
    "<td class=\"tg-yw4l\">(IU/L)</td>\n",
    "</tr>\n",
    "<tr>\n",
    "<td class=\"tg-yw4l\">Bilirubin</td>\n",
    "<td class=\"tg-yw4l\">Bilirubin</td>\n",
    "<td class=\"tg-yw4l\">(mg/dL)</td>\n",
    "</tr>\n",
    "<tr>\n",
    "<td class=\"tg-yw4l\">BUN</td>\n",
    "<td class=\"tg-yw4l\">Blood urea nitrogen</td>\n",
    "<td class=\"tg-yw4l\">(mg/dL)</td>\n",
    "</tr>\n",
    "<tr>\n",
    "<td class=\"tg-yw4l\">Cholesterol</td>\n",
    "<td class=\"tg-yw4l\">Cholesterol</td>\n",
    "<td class=\"tg-yw4l\">(mg/dL)</td>\n",
    "</tr>\n",
    "<tr>\n",
    "<td class=\"tg-yw4l\">Creatinine</td>\n",
    "<td class=\"tg-yw4l\">Serum creatinine</td>\n",
    "<td class=\"tg-yw4l\">(mg/dL)</td>\n",
    "</tr>\n",
    "\n",
    "<tr>\n",
    "<td class=\"tg-yw4l\">DiasABP <td class=\"tg-yw4l\">Invasive diastolic arterial blood pressure <td class=\"tg-yw4l\">(mmHg)</tr>\n",
    "\n",
    "<tr><td class=\"tg-yw4l\">FiO2 <td class=\"tg-yw4l\">Fractional inspired O2 <td class=\"tg-yw4l\">(0-1)</tr>\n",
    "<tr><td class=\"tg-yw4l\">GCS <td class=\"tg-yw4l\">Glasgow Coma Score <td class=\"tg-yw4l\">(3-15)</tr>\n",
    "<tr><td class=\"tg-yw4l\">Glucose <td class=\"tg-yw4l\">Serum glucose <td class=\"tg-yw4l\">(mg/dL)</tr>\n",
    "<tr><td class=\"tg-yw4l\">HCO3 <td class=\"tg-yw4l\">Serum bicarbonate <td class=\"tg-yw4l\">(mmol/L)</tr>\n",
    "<tr><td class=\"tg-yw4l\">HCT <td class=\"tg-yw4l\">Hematocrit <td class=\"tg-yw4l\">(%)</tr>\n",
    "<tr><td class=\"tg-yw4l\">HR <td class=\"tg-yw4l\">Heart rate <td class=\"tg-yw4l\">(bpm)</tr>\n",
    "<tr><td class=\"tg-yw4l\">K <td class=\"tg-yw4l\">Serum potassium <td class=\"tg-yw4l\">(mEq/L)</tr>\n",
    "<tr><td class=\"tg-yw4l\">Lactate <td class=\"tg-yw4l\">Lactate<td class=\"tg-yw4l\">(mmol/L)</tr>\n",
    "<tr><td class=\"tg-yw4l\">Mg <td class=\"tg-yw4l\">Serum magnesium <td class=\"tg-yw4l\">(mmol/L)</tr>\n",
    "<tr><td class=\"tg-yw4l\">MAP <td class=\"tg-yw4l\">Invasive mean arterial blood pressure <td class=\"tg-yw4l\">(mmHg)</tr>\n",
    "<tr><td class=\"tg-yw4l\">MechVent <td class=\"tg-yw4l\">Mechanical ventilation respiration <td class=\"tg-yw4l\">(0:false, or 1:true)</tr>\n",
    "<tr><td class=\"tg-yw4l\">Na <td class=\"tg-yw4l\">Serum sodium <td class=\"tg-yw4l\">(mEq/L)</tr>\n",
    "<tr><td class=\"tg-yw4l\">NIDiasABP <td class=\"tg-yw4l\">Non-invasive diastolic arterial blood pressure <td class=\"tg-yw4l\">(mmHg)</tr>\n",
    "<tr><td class=\"tg-yw4l\">NIMAP <td class=\"tg-yw4l\">Non-invasive mean arterial blood pressure <td class=\"tg-yw4l\">(mmHg)</tr>\n",
    "<tr><td class=\"tg-yw4l\">NISysABP <td class=\"tg-yw4l\">Non-invasive systolic arterial blood pressure <td class=\"tg-yw4l\">(mmHg)</tr>\n",
    "<tr><td class=\"tg-yw4l\">PaCO2 <td class=\"tg-yw4l\">partial pressure of arterial CO2 <td class=\"tg-yw4l\">(mmHg)</tr>\n",
    "<tr><td class=\"tg-yw4l\">PaO2 <td class=\"tg-yw4l\">Partial pressure of arterial O2 <td class=\"tg-yw4l\">(mmHg)</tr>\n",
    "<tr><td class=\"tg-yw4l\">pH <td class=\"tg-yw4l\">Arterial pH <td class=\"tg-yw4l\">(0-14)</tr>\n",
    "<tr><td class=\"tg-yw4l\">Platelets <td class=\"tg-yw4l\">Platelets<td class=\"tg-yw4l\">(cells/nL)</tr>\n",
    "<tr><td class=\"tg-yw4l\">RespRate <td class=\"tg-yw4l\">Respiration rate <td class=\"tg-yw4l\">(bpm)</tr>\n",
    "<tr><td class=\"tg-yw4l\">SaO2 <td class=\"tg-yw4l\">O2 saturation in hemoglobin <td class=\"tg-yw4l\">(%)</tr>\n",
    "<tr><td class=\"tg-yw4l\">SysABP <td class=\"tg-yw4l\">Invasive systolic arterial blood pressure <td class=\"tg-yw4l\">(mmHg)</tr>\n",
    "<tr><td class=\"tg-yw4l\">Temp <td class=\"tg-yw4l\">Temperature <td class=\"tg-yw4l\">(°C)</tr>\n",
    "<tr><td class=\"tg-yw4l\">TropI <td class=\"tg-yw4l\">Troponin-I <td class=\"tg-yw4l\">(μg/L)</tr>\n",
    "<tr><td class=\"tg-yw4l\">TropT <td class=\"tg-yw4l\">Troponin-T <td class=\"tg-yw4l\">(μg/L)</tr>\n",
    "<tr><td class=\"tg-yw4l\">Urine <td class=\"tg-yw4l\">Urine output <td class=\"tg-yw4l\">(mL)</tr>\n",
    "<tr><td class=\"tg-yw4l\">WBC <td class=\"tg-yw4l\">White blood cell count <td class=\"tg-yw4l\">(cells/nL)</tr>\n",
    "<tr><td class=\"tg-yw4l\">Weight <td class=\"tg-yw4l\">Weight<td class=\"tg-yw4l\">(kg)</tr></table>\n",
    "\n",
    "<br><br>\n",
    "Outcomes-Related Descriptors:\n",
    "\n",
    "<table class=\"tg\">\n",
    "<tr>\n",
    "    <th class=\"tg-36xf\">Outcomes</th>\n",
    "    <th class=\"tg-2lp6\">Description</th>\n",
    "    <th class=\"tg-2lp6\">Metrics</th>\n",
    "</tr>\n",
    "          \n",
    "<tr>\n",
    "    <td class=\"tg-yw4l\">SAPS-I score</td>\n",
    "    <td class=\"tg-yw4l\">(Le Gall et al., 1984) </td>\n",
    "    <td class=\"tg-yw4l\">between 0 to 163</td>\n",
    "</tr>\n",
    "  \n",
    "<tr>\n",
    "    <td class=\"tg-yw4l\">SOFA score</td>\n",
    "    <td class=\"tg-yw4l\">(Ferreira et al., 2001) </td>\n",
    "    <td class=\"tg-yw4l\">between 0 to 4</td>\n",
    "</tr>\n",
    "  \n",
    "<tr>\n",
    "    <td class=\"tg-yw4l\">Length of stay</td>\n",
    "    <td class=\"tg-yw4l\">Length of stay </td>\n",
    "    <td class=\"tg-yw4l\">(days)</td>\n",
    "</tr>\n",
    "\n",
    "<tr>\n",
    "    <td class=\"tg-yw4l\">Survival</td>\n",
    "    <td class=\"tg-yw4l\">Survival</td>\n",
    "    <td class=\"tg-yw4l\">(days)</td>\n",
    "</tr>\n",
    "\n",
    "<tr>\n",
    "    <td class=\"tg-yw42\"><b>In-hospital death</b></td>\n",
    "    <td class=\"tg-yw42\"><b>Target Variable</b></td>\n",
    "    <td class=\"tg-yw42\"><b>(0: survivor, or 1: died in-hospital)</b></td>\n",
    "</tr>\n",
    " "
   ]
  },
  {
   "cell_type": "markdown",
   "metadata": {},
   "source": [
    "<div style=\"width:900px;background:#F9EECF;border:1px solid black;text-align:left;padding:20px;\">\n",
    "\n",
    "<span style=\"color:purple;font-size:13pt\"><b>Import Packages</span></b>\n",
    "\n",
    "</div>"
   ]
  },
  {
   "cell_type": "code",
   "execution_count": 1,
   "metadata": {
    "collapsed": true
   },
   "outputs": [],
   "source": [
    "# Import packages\n",
    "\n",
    "import pandas as pd\n",
    "import numpy as np\n",
    "\n",
    "\n",
    "import seaborn as sns\n",
    "\n",
    "from sklearn.preprocessing import RobustScaler, OneHotEncoder\n",
    "from sklearn.pipeline import FeatureUnion\n",
    "from sklearn.base import BaseEstimator, TransformerMixin\n",
    "\n",
    "from sklearn.model_selection import GridSearchCV\n",
    "from sklearn.tree import DecisionTreeClassifier\n",
    "from sklearn.ensemble import RandomForestClassifier\n",
    "\n",
    "from sklearn.metrics import classification_report\n",
    "\n",
    "from statsmodels.stats.outliers_influence import variance_inflation_factor\n",
    "\n",
    "pd.set_option('display.max_columns', 200)\n",
    "pd.set_option('display.max_rows',200)\n",
    "\n",
    "\n",
    "sns.set_style('whitegrid')\n",
    "sns.set(rc={\"figure.figsize\": (15, 8)})\n",
    "\n",
    "%config InlineBackend.figure_format = 'retina'\n",
    "%matplotlib inline"
   ]
  },
  {
   "cell_type": "code",
   "execution_count": 2,
   "metadata": {
    "collapsed": true
   },
   "outputs": [],
   "source": [
    "# Simple cleaning on csv file\n",
    "\n",
    "selected_X = pd.read_csv('selected_Xy.csv')\n",
    "selected_X.set_index('recordid',inplace=True)"
   ]
  },
  {
   "cell_type": "code",
   "execution_count": 3,
   "metadata": {
    "collapsed": true
   },
   "outputs": [],
   "source": [
    "y = selected_X['in-hospital_death']"
   ]
  },
  {
   "cell_type": "code",
   "execution_count": 4,
   "metadata": {
    "collapsed": true
   },
   "outputs": [],
   "source": [
    "selected_X = selected_X.drop('in-hospital_death',axis=1)   # identify predictors "
   ]
  },
  {
   "cell_type": "markdown",
   "metadata": {},
   "source": [
    "<div style=\"width:900px;background:#F9EECF;border:1px solid black;text-align:left;padding:20px;\">\n",
    "\n",
    "<p>\n",
    "\n",
    "<span style=\"color:purple;font-size:13pt\"><b>Dealing with Imbalance and Modeling</span></b>\n",
    "\n",
    "</div>"
   ]
  },
  {
   "cell_type": "code",
   "execution_count": 6,
   "metadata": {
    "collapsed": true
   },
   "outputs": [],
   "source": [
    "# Train test split\n",
    "\n",
    "from sklearn.model_selection import train_test_split\n",
    "\n",
    "X_train, X_test, y_train, y_test = train_test_split(selected_X, y, test_size=0.33, random_state=2,stratify=y)"
   ]
  },
  {
   "cell_type": "markdown",
   "metadata": {},
   "source": [
    "<div style=\"width:900px;background:#F9EECF;border:1px solid black;text-align:left;padding:20px;\">\n",
    "\n",
    "<p><b>EasyEnsemble + Weighted Logistic Loss</b>\n",
    "<br> Decision Tree\n",
    "</div>"
   ]
  },
  {
   "cell_type": "code",
   "execution_count": 7,
   "metadata": {},
   "outputs": [],
   "source": [
    "from imblearn.ensemble import EasyEnsemble\n",
    "\n",
    "ee = EasyEnsemble(n_subsets=3)\n",
    "X_train_res_ee, y_train_res_ee = ee.fit_sample(X_train, y_train)"
   ]
  },
  {
   "cell_type": "code",
   "execution_count": 8,
   "metadata": {},
   "outputs": [
    {
     "data": {
      "text/plain": [
       "(3, 740, 33)"
      ]
     },
     "execution_count": 8,
     "metadata": {},
     "output_type": "execute_result"
    }
   ],
   "source": [
    "X_train_res_ee.shape"
   ]
  },
  {
   "cell_type": "code",
   "execution_count": 9,
   "metadata": {
    "collapsed": true
   },
   "outputs": [],
   "source": [
    "a, b, c = X_train_res_ee.shape\n",
    "X_train_res_ee = X_train_res_ee.reshape((a*b,c))"
   ]
  },
  {
   "cell_type": "code",
   "execution_count": 10,
   "metadata": {},
   "outputs": [
    {
     "data": {
      "text/plain": [
       "(2220, 33)"
      ]
     },
     "execution_count": 10,
     "metadata": {},
     "output_type": "execute_result"
    }
   ],
   "source": [
    "X_train_res_ee.shape"
   ]
  },
  {
   "cell_type": "code",
   "execution_count": 11,
   "metadata": {
    "collapsed": true
   },
   "outputs": [],
   "source": [
    "a,b = y_train_res_ee.shape\n",
    "y_train_res_ee = y_train_res_ee.reshape((a*b))"
   ]
  },
  {
   "cell_type": "code",
   "execution_count": 12,
   "metadata": {},
   "outputs": [
    {
     "data": {
      "text/plain": [
       "1110.0"
      ]
     },
     "execution_count": 12,
     "metadata": {},
     "output_type": "execute_result"
    }
   ],
   "source": [
    "y_train_res_ee.sum()"
   ]
  },
  {
   "cell_type": "code",
   "execution_count": 13,
   "metadata": {},
   "outputs": [
    {
     "data": {
      "text/plain": [
       "2220"
      ]
     },
     "execution_count": 13,
     "metadata": {},
     "output_type": "execute_result"
    }
   ],
   "source": [
    "len(y_train_res_ee)"
   ]
  },
  {
   "cell_type": "code",
   "execution_count": 14,
   "metadata": {},
   "outputs": [
    {
     "name": "stdout",
     "output_type": "stream",
     "text": [
      "Fitting 3 folds for each of 385 candidates, totalling 1155 fits\n"
     ]
    },
    {
     "name": "stderr",
     "output_type": "stream",
     "text": [
      "[Parallel(n_jobs=1)]: Done 1155 out of 1155 | elapsed:    6.6s finished\n"
     ]
    },
    {
     "data": {
      "text/plain": [
       "GridSearchCV(cv=3, error_score='raise',\n",
       "       estimator=DecisionTreeClassifier(class_weight='balanced', criterion='gini',\n",
       "            max_depth=None, max_features=None, max_leaf_nodes=None,\n",
       "            min_impurity_decrease=0.0, min_impurity_split=None,\n",
       "            min_samples_leaf=1, min_samples_split=2,\n",
       "            min_weight_fraction_leaf=0.0, presort=False, random_state=2,\n",
       "            splitter='best'),\n",
       "       fit_params=None, iid=True, n_jobs=1,\n",
       "       param_grid={'max_features': [None, 'log2', 'sqrt', 2, 3, 4, 5], 'min_samples_split': [2, 3, 4, 5, 10, 15, 20, 25, 30, 40, 50], 'max_depth': [None, 1, 2, 3, 4]},\n",
       "       pre_dispatch='2*n_jobs', refit=True, return_train_score=True,\n",
       "       scoring=None, verbose=1)"
      ]
     },
     "execution_count": 14,
     "metadata": {},
     "output_type": "execute_result"
    }
   ],
   "source": [
    "dtc_params = {\n",
    "    'max_depth':[None,1,2,3,4],\n",
    "    'max_features':[None,'log2','sqrt',2,3,4,5],\n",
    "    'min_samples_split':[2,3,4,5,10,15,20,25,30,40,50]\n",
    "}\n",
    "\n",
    "\n",
    "dtc_gs = GridSearchCV(DecisionTreeClassifier(random_state=2,class_weight='balanced'), dtc_params, cv=3, verbose=1)\n",
    "dtc_gs.fit(X_train_res_ee, y_train_res_ee)\n"
   ]
  },
  {
   "cell_type": "code",
   "execution_count": 15,
   "metadata": {},
   "outputs": [
    {
     "name": "stdout",
     "output_type": "stream",
     "text": [
      "{'max_features': 3, 'min_samples_split': 2, 'max_depth': None}\n",
      "0.907207207207\n"
     ]
    }
   ],
   "source": [
    "dtc_best = dtc_gs.best_estimator_\n",
    "print dtc_gs.best_params_\n",
    "print dtc_gs.best_score_"
   ]
  },
  {
   "cell_type": "code",
   "execution_count": 16,
   "metadata": {},
   "outputs": [
    {
     "name": "stdout",
     "output_type": "stream",
     "text": [
      "             precision    recall  f1-score   support\n",
      "\n",
      "        0.0       0.90      0.77      0.83      1127\n",
      "        1.0       0.24      0.45      0.31       182\n",
      "\n",
      "avg / total       0.80      0.72      0.76      1309\n",
      "\n"
     ]
    }
   ],
   "source": [
    "y_pred = dtc_best.predict(X_test)\n",
    "print classification_report(y_test,y_pred)"
   ]
  },
  {
   "cell_type": "markdown",
   "metadata": {},
   "source": [
    "<div style=\"width:900px;background:#F9EECF;border:1px solid black;text-align:left;padding:20px;\">\n",
    "\n",
    "<p><b>SMOTEENN + Weighted Logistic Loss</b>\n",
    "<br> Decision Tree\n",
    "</div>"
   ]
  },
  {
   "cell_type": "code",
   "execution_count": 17,
   "metadata": {
    "collapsed": true
   },
   "outputs": [],
   "source": [
    "from imblearn.combine import SMOTEENN"
   ]
  },
  {
   "cell_type": "code",
   "execution_count": 19,
   "metadata": {},
   "outputs": [
    {
     "data": {
      "text/plain": [
       "370.0"
      ]
     },
     "execution_count": 19,
     "metadata": {},
     "output_type": "execute_result"
    }
   ],
   "source": [
    "y_train.sum()"
   ]
  },
  {
   "cell_type": "code",
   "execution_count": 20,
   "metadata": {},
   "outputs": [
    {
     "data": {
      "text/plain": [
       "2656"
      ]
     },
     "execution_count": 20,
     "metadata": {},
     "output_type": "execute_result"
    }
   ],
   "source": [
    "len(y_train)"
   ]
  },
  {
   "cell_type": "code",
   "execution_count": 48,
   "metadata": {},
   "outputs": [],
   "source": [
    "# Using SMOTEEN + Weighted Logistic Loss\n",
    "\n",
    "from imblearn.combine import SMOTEENN\n",
    "from imblearn.over_sampling import SMOTE\n",
    "\n",
    "smoteenn = SMOTEENN(random_state=2,smote=SMOTE(ratio={1:1100},random_state=2))\n",
    "X_train_res, y_train_res = smoteenn.fit_sample(X_train, y_train)"
   ]
  },
  {
   "cell_type": "code",
   "execution_count": 49,
   "metadata": {},
   "outputs": [
    {
     "data": {
      "text/plain": [
       "2286.0"
      ]
     },
     "execution_count": 49,
     "metadata": {},
     "output_type": "execute_result"
    }
   ],
   "source": [
    "len(y_train) - y_train.sum()"
   ]
  },
  {
   "cell_type": "code",
   "execution_count": 50,
   "metadata": {},
   "outputs": [
    {
     "data": {
      "text/plain": [
       "370.0"
      ]
     },
     "execution_count": 50,
     "metadata": {},
     "output_type": "execute_result"
    }
   ],
   "source": [
    "y_train.sum()"
   ]
  },
  {
   "cell_type": "code",
   "execution_count": 51,
   "metadata": {},
   "outputs": [
    {
     "data": {
      "text/plain": [
       "1446.0"
      ]
     },
     "execution_count": 51,
     "metadata": {},
     "output_type": "execute_result"
    }
   ],
   "source": [
    "len(y_train_res) - y_train_res.sum()"
   ]
  },
  {
   "cell_type": "code",
   "execution_count": 52,
   "metadata": {},
   "outputs": [
    {
     "data": {
      "text/plain": [
       "914.0"
      ]
     },
     "execution_count": 52,
     "metadata": {},
     "output_type": "execute_result"
    }
   ],
   "source": [
    "y_train_res.sum()  # Percentage of samples in the minority class "
   ]
  },
  {
   "cell_type": "code",
   "execution_count": 53,
   "metadata": {},
   "outputs": [
    {
     "name": "stdout",
     "output_type": "stream",
     "text": [
      "Fitting 5 folds for each of 385 candidates, totalling 1925 fits\n"
     ]
    },
    {
     "name": "stderr",
     "output_type": "stream",
     "text": [
      "[Parallel(n_jobs=1)]: Done 1925 out of 1925 | elapsed:   14.1s finished\n"
     ]
    },
    {
     "data": {
      "text/plain": [
       "GridSearchCV(cv=5, error_score='raise',\n",
       "       estimator=DecisionTreeClassifier(class_weight='balanced', criterion='gini',\n",
       "            max_depth=None, max_features=None, max_leaf_nodes=None,\n",
       "            min_impurity_decrease=0.0, min_impurity_split=None,\n",
       "            min_samples_leaf=1, min_samples_split=2,\n",
       "            min_weight_fraction_leaf=0.0, presort=False, random_state=2,\n",
       "            splitter='best'),\n",
       "       fit_params=None, iid=True, n_jobs=1,\n",
       "       param_grid={'max_features': [None, 'log2', 'sqrt', 2, 3, 4, 5], 'min_samples_split': [2, 3, 4, 5, 10, 15, 20, 25, 30, 40, 50], 'max_depth': [None, 1, 2, 3, 4]},\n",
       "       pre_dispatch='2*n_jobs', refit=True, return_train_score=True,\n",
       "       scoring=None, verbose=1)"
      ]
     },
     "execution_count": 53,
     "metadata": {},
     "output_type": "execute_result"
    }
   ],
   "source": [
    "# Fit resampled training set on Decision Tree\n",
    "\n",
    "dtc_params = {\n",
    "    'max_depth':[None,1,2,3,4],\n",
    "    'max_features':[None,'log2','sqrt',2,3,4,5],\n",
    "    'min_samples_split':[2,3,4,5,10,15,20,25,30,40,50]\n",
    "}\n",
    "\n",
    "\n",
    "dtc_gs = GridSearchCV(DecisionTreeClassifier(random_state=2,class_weight='balanced'), \\\n",
    "                      dtc_params, cv=5, verbose=1,n_jobs=-1)\n",
    "dtc_gs.fit(X_train_res, y_train_res)\n"
   ]
  },
  {
   "cell_type": "code",
   "execution_count": 54,
   "metadata": {},
   "outputs": [
    {
     "name": "stdout",
     "output_type": "stream",
     "text": [
      "{'max_features': 4, 'min_samples_split': 2, 'max_depth': None}\n",
      "0.825847457627\n"
     ]
    }
   ],
   "source": [
    "dtc_best = dtc_gs.best_estimator_\n",
    "print dtc_gs.best_params_\n",
    "print dtc_gs.best_score_"
   ]
  },
  {
   "cell_type": "code",
   "execution_count": 55,
   "metadata": {},
   "outputs": [
    {
     "name": "stdout",
     "output_type": "stream",
     "text": [
      "             precision    recall  f1-score   support\n",
      "\n",
      "        0.0       0.89      0.78      0.83      1127\n",
      "        1.0       0.23      0.42      0.30       182\n",
      "\n",
      "avg / total       0.80      0.73      0.76      1309\n",
      "\n"
     ]
    }
   ],
   "source": [
    "y_pred = dtc_best.predict(X_test)\n",
    "print classification_report(y_test,y_pred)"
   ]
  },
  {
   "cell_type": "markdown",
   "metadata": {},
   "source": [
    "<div style=\"width:900px;background:#F9EECF;border:1px solid black;text-align:left;padding:20px;\">\n",
    "\n",
    "<p><b>SMOTEENN + Weighted Logistic Loss</b>\n",
    "<br> Random Forest\n",
    "</div>"
   ]
  },
  {
   "cell_type": "code",
   "execution_count": 56,
   "metadata": {},
   "outputs": [
    {
     "name": "stdout",
     "output_type": "stream",
     "text": [
      "Fitting 5 folds for each of 1540 candidates, totalling 7700 fits\n"
     ]
    },
    {
     "name": "stderr",
     "output_type": "stream",
     "text": [
      "[Parallel(n_jobs=1)]: Done 7700 out of 7700 | elapsed:  9.2min finished\n"
     ]
    },
    {
     "data": {
      "text/plain": [
       "GridSearchCV(cv=5, error_score='raise',\n",
       "       estimator=RandomForestClassifier(bootstrap=True, class_weight='balanced',\n",
       "            criterion='gini', max_depth=None, max_features='auto',\n",
       "            max_leaf_nodes=None, min_impurity_decrease=0.0,\n",
       "            min_impurity_split=None, min_samples_leaf=1,\n",
       "            min_samples_split=2, min_weight_fraction_leaf=0.0,\n",
       "            n_estimators=10, n_jobs=1, oob_score=False, random_state=2,\n",
       "            verbose=0, warm_start=False),\n",
       "       fit_params=None, iid=True, n_jobs=1,\n",
       "       param_grid={'n_estimators': [5, 10, 15, 20], 'max_features': [None, 'log2', 'sqrt', 2, 3, 4, 5], 'min_samples_split': [2, 3, 4, 5, 10, 15, 20, 25, 30, 40, 50], 'max_depth': [None, 1, 2, 3, 4]},\n",
       "       pre_dispatch='2*n_jobs', refit=True, return_train_score=True,\n",
       "       scoring=None, verbose=1)"
      ]
     },
     "execution_count": 56,
     "metadata": {},
     "output_type": "execute_result"
    }
   ],
   "source": [
    "rfc_params = {\n",
    "    'n_estimators':[5,10,15,20],\n",
    "    'max_depth':[None,1,2,3,4],\n",
    "    'max_features':[None,'log2','sqrt',2,3,4,5],\n",
    "    'min_samples_split':[2,3,4,5,10,15,20,25,30,40,50]\n",
    "}\n",
    "\n",
    "\n",
    "rfc_gs = GridSearchCV(RandomForestClassifier(random_state=2,class_weight='balanced'), \\\n",
    "                      rfc_params, cv=5, verbose=1,n_jobs=-1)\n",
    "rfc_gs.fit(X_train_res, y_train_res)"
   ]
  },
  {
   "cell_type": "code",
   "execution_count": 57,
   "metadata": {},
   "outputs": [
    {
     "name": "stdout",
     "output_type": "stream",
     "text": [
      "{'max_features': 'log2', 'min_samples_split': 4, 'n_estimators': 20, 'max_depth': None}\n",
      "0.914406779661\n"
     ]
    }
   ],
   "source": [
    "rfc_best = rfc_gs.best_estimator_\n",
    "print rfc_gs.best_params_\n",
    "print rfc_gs.best_score_"
   ]
  },
  {
   "cell_type": "code",
   "execution_count": 58,
   "metadata": {},
   "outputs": [
    {
     "name": "stdout",
     "output_type": "stream",
     "text": [
      "             precision    recall  f1-score   support\n",
      "\n",
      "        0.0       0.90      0.90      0.90      1127\n",
      "        1.0       0.39      0.39      0.39       182\n",
      "\n",
      "avg / total       0.83      0.83      0.83      1309\n",
      "\n"
     ]
    }
   ],
   "source": [
    "y_pred = rfc_best.predict(X_test)\n",
    "print classification_report(y_test,y_pred)"
   ]
  },
  {
   "cell_type": "markdown",
   "metadata": {},
   "source": [
    "<div style=\"width:900px;background:#F9EECF;border:1px solid black;text-align:left;padding:20px;\">\n",
    "\n",
    "<p><b>NearMiss 2</b>\n",
    "<br> Decision Tree\n",
    "</div>"
   ]
  },
  {
   "cell_type": "code",
   "execution_count": 28,
   "metadata": {},
   "outputs": [
    {
     "name": "stdout",
     "output_type": "stream",
     "text": [
      "Fitting 5 folds for each of 385 candidates, totalling 1925 fits\n"
     ]
    },
    {
     "name": "stderr",
     "output_type": "stream",
     "text": [
      "[Parallel(n_jobs=1)]: Done 1925 out of 1925 | elapsed:    6.7s finished\n"
     ]
    },
    {
     "data": {
      "text/plain": [
       "GridSearchCV(cv=5, error_score='raise',\n",
       "       estimator=DecisionTreeClassifier(class_weight='balanced', criterion='gini',\n",
       "            max_depth=None, max_features=None, max_leaf_nodes=None,\n",
       "            min_impurity_decrease=0.0, min_impurity_split=None,\n",
       "            min_samples_leaf=1, min_samples_split=2,\n",
       "            min_weight_fraction_leaf=0.0, presort=False, random_state=2,\n",
       "            splitter='best'),\n",
       "       fit_params=None, iid=True, n_jobs=1,\n",
       "       param_grid={'max_features': [None, 'log2', 'sqrt', 2, 3, 4, 5], 'min_samples_split': [2, 3, 4, 5, 10, 15, 20, 25, 30, 40, 50], 'max_depth': [None, 1, 2, 3, 4]},\n",
       "       pre_dispatch='2*n_jobs', refit=True, return_train_score=True,\n",
       "       scoring=None, verbose=1)"
      ]
     },
     "execution_count": 28,
     "metadata": {},
     "output_type": "execute_result"
    }
   ],
   "source": [
    "from imblearn.under_sampling import NearMiss\n",
    "\n",
    "nm2 = NearMiss(random_state=2, version=2, n_neighbors=3,n_jobs=-1)\n",
    "X_train_res_nm, y_train_res_nm = nm2.fit_sample(X_train, y_train)\n",
    "    \n",
    "# Fit resampled training set on Decision Tree\n",
    "\n",
    "dtc_params = {\n",
    "    'max_depth':[None,1,2,3,4],\n",
    "    'max_features':[None,'log2','sqrt',2,3,4,5],\n",
    "    'min_samples_split':[2,3,4,5,10,15,20,25,30,40,50]\n",
    "}\n",
    "\n",
    "\n",
    "dtc_gs = GridSearchCV(DecisionTreeClassifier(random_state=2,class_weight='balanced'), dtc_params, cv=5, verbose=1)\n",
    "dtc_gs.fit(X_train_res_nm, y_train_res_nm)\n"
   ]
  },
  {
   "cell_type": "code",
   "execution_count": 29,
   "metadata": {},
   "outputs": [
    {
     "name": "stdout",
     "output_type": "stream",
     "text": [
      "{'max_features': 'log2', 'min_samples_split': 2, 'max_depth': 2}\n",
      "0.813513513514\n"
     ]
    }
   ],
   "source": [
    "dtc_best = dtc_gs.best_estimator_\n",
    "print dtc_gs.best_params_\n",
    "print dtc_gs.best_score_"
   ]
  },
  {
   "cell_type": "code",
   "execution_count": 30,
   "metadata": {},
   "outputs": [
    {
     "name": "stdout",
     "output_type": "stream",
     "text": [
      "             precision    recall  f1-score   support\n",
      "\n",
      "        0.0       0.83      0.28      0.42      1127\n",
      "        1.0       0.13      0.65      0.21       182\n",
      "\n",
      "avg / total       0.74      0.33      0.39      1309\n",
      "\n"
     ]
    }
   ],
   "source": [
    "y_pred = dtc_best.predict(X_test)\n",
    "print classification_report(y_test,y_pred)"
   ]
  },
  {
   "cell_type": "code",
   "execution_count": null,
   "metadata": {
    "collapsed": true
   },
   "outputs": [],
   "source": []
  }
 ],
 "metadata": {
  "kernelspec": {
   "display_name": "Python 2",
   "language": "python",
   "name": "python2"
  },
  "language_info": {
   "codemirror_mode": {
    "name": "ipython",
    "version": 2
   },
   "file_extension": ".py",
   "mimetype": "text/x-python",
   "name": "python",
   "nbconvert_exporter": "python",
   "pygments_lexer": "ipython2",
   "version": "2.7.13"
  }
 },
 "nbformat": 4,
 "nbformat_minor": 2
}
