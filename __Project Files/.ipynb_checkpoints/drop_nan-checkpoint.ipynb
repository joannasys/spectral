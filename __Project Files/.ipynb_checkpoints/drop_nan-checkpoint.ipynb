{
 "cells": [
  {
   "cell_type": "code",
   "execution_count": 1,
   "metadata": {
    "collapsed": true
   },
   "outputs": [],
   "source": [
    "import pandas as pd\n",
    "import numpy as np\n",
    "\n",
    "from sklearn.base import BaseEstimator, TransformerMixin"
   ]
  },
  {
   "cell_type": "code",
   "execution_count": 2,
   "metadata": {
    "collapsed": true
   },
   "outputs": [],
   "source": [
    "class DropNaN(BaseEstimator, TransformerMixin):\n",
    "    \n",
    "    def __init__(self):\n",
    "        pass\n",
    "    \n",
    "    def set_index_(self,df):\n",
    "        \"\"\"remove columns with more than 1000 NaN values\"\"\"\n",
    "\n",
    "        df = df.set_index('recordid')\n",
    "        return df\n",
    "        \n",
    "    \n",
    "    def remove_columns_(self,df,drop_col=1000):\n",
    "        \"\"\"remove columns with more than 1000 NaN values\"\"\"\n",
    "        \n",
    "        null_col = df.isnull().sum()\n",
    "        df = df.drop(null_col[null_col > drop_col].index,axis=1)\n",
    "        \n",
    "        return df\n",
    "    \n",
    "    def remove_rows_(self,df,drop_row=57):\n",
    "        \n",
    "        df['NaNs'] = mortality.isnull().sum(axis=1)\n",
    "        df = df.drop(df[df['NaNs']>drop_row].index)\n",
    "        \n",
    "        return df\n",
    "    \n",
    "    def drop_deslabels_(self,df,deslabels=['saps-i','sofa','length_of_stay','survival']):\n",
    "        \n",
    "        df = df.drop(deslabels,axis=1)\n",
    "        \n",
    "        return df\n",
    "    \n",
    "    def transform(self, main_df, *args):\n",
    "        \n",
    "        main_df = self.set_index_(main_df)\n",
    "        main_df = self.remove_columns_(main_df)\n",
    "        main_df = self.remove_rows_(main_df)\n",
    "        main_df = self.drop_deslabels_(main_df)\n",
    "        \n",
    "        self.feature_names = main_df.columns\n",
    "        \n",
    "        return main_df\n",
    "\n",
    "    def fit(self, main_df, *args):\n",
    "        return self"
   ]
  },
  {
   "cell_type": "code",
   "execution_count": null,
   "metadata": {
    "collapsed": true
   },
   "outputs": [],
   "source": []
  }
 ],
 "metadata": {
  "kernelspec": {
   "display_name": "Python 2",
   "language": "python",
   "name": "python2"
  },
  "language_info": {
   "codemirror_mode": {
    "name": "ipython",
    "version": 2
   },
   "file_extension": ".py",
   "mimetype": "text/x-python",
   "name": "python",
   "nbconvert_exporter": "python",
   "pygments_lexer": "ipython2",
   "version": "2.7.13"
  }
 },
 "nbformat": 4,
 "nbformat_minor": 2
}
